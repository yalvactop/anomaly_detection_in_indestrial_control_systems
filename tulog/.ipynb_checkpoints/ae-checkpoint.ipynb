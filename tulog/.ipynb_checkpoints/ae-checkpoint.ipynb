{
 "cells": [
  {
   "cell_type": "code",
   "execution_count": 1,
   "id": "7978d0c8",
   "metadata": {},
   "outputs": [],
   "source": [
    "import pandas as pd\n",
    "import numpy as np\n",
    "\n",
    "df = pd.read_csv(\"swat.csv\")\n",
    "df = df.iloc[:5*len(df.index)//8]\n",
    "#df = df.iloc[:7500]\n",
    "\n",
    "y = df[\"Normal/Attack\"]\n",
    "del df[\"Normal/Attack\"]"
   ]
  },
  {
   "cell_type": "code",
   "execution_count": 2,
   "id": "f626bfb6",
   "metadata": {},
   "outputs": [],
   "source": [
    "from sklearn.model_selection import train_test_split\n",
    "from sklearn.preprocessing import MinMaxScaler, StandardScaler\n",
    "\n",
    "\n",
    "def generate_datasets_for_training(data, window_size,scale=True, scaler_type=StandardScaler):\n",
    "    _l = len(data) \n",
    "    data = scaler_type().fit_transform(data)\n",
    "    Xs = []\n",
    "    Ys = []\n",
    "    for i in range(0, (_l - window_size)):\n",
    "        # because this is an autoencoder - our Ys are the same as our Xs. No need to pull the next sequence of values\n",
    "        Xs.append(data[i:i+window_size])\n",
    "        Ys.append(data[i:i+window_size])\n",
    "    tr_x, ts_x, tr_y, ts_y = [np.array(x) for x in train_test_split(Xs, Ys)]\n",
    "    assert tr_x.shape[2] == ts_x.shape[2] == (data.shape[1] if (type(data) == np.ndarray) else len(data))\n",
    "    return  (tr_x.shape[2], tr_x, tr_y, ts_x, ts_y)"
   ]
  },
  {
   "cell_type": "code",
   "execution_count": null,
   "id": "b8b2cb66",
   "metadata": {},
   "outputs": [
    {
     "name": "stderr",
     "output_type": "stream",
     "text": [
      "Using TensorFlow backend.\n",
      "/home/top/.pyenv/versions/3.7.12/lib/python3.7/site-packages/sklearn/preprocessing/data.py:645: DataConversionWarning: Data with input dtype int64, float64 were all converted to float64 by StandardScaler.\n",
      "  return self.partial_fit(X, y)\n",
      "/home/top/.pyenv/versions/3.7.12/lib/python3.7/site-packages/sklearn/base.py:464: DataConversionWarning: Data with input dtype int64, float64 were all converted to float64 by StandardScaler.\n",
      "  return self.fit(X, **fit_params).transform(X)\n"
     ]
    },
    {
     "name": "stdout",
     "output_type": "stream",
     "text": [
      "WARNING:tensorflow:From /home/top/.pyenv/versions/3.7.12/lib/python3.7/site-packages/tensorflow_core/python/ops/resource_variable_ops.py:1630: calling BaseResourceVariable.__init__ (from tensorflow.python.ops.resource_variable_ops) with constraint is deprecated and will be removed in a future version.\n",
      "Instructions for updating:\n",
      "If using Keras pass *_constraint arguments to layers.\n",
      "Model: \"sequential_1\"\n",
      "_________________________________________________________________\n",
      "Layer (type)                 Output Shape              Param #   \n",
      "=================================================================\n",
      "encoder_1 (LSTM)             (None, 4, 64)             29952     \n",
      "_________________________________________________________________\n",
      "encoder_2 (LSTM)             (None, 4, 32)             12416     \n",
      "_________________________________________________________________\n",
      "encoder_3 (LSTM)             (None, 16)                3136      \n",
      "_________________________________________________________________\n",
      "encoder_decoder_bridge (Repe (None, 4, 16)             0         \n",
      "_________________________________________________________________\n",
      "decoder_1 (LSTM)             (None, 4, 16)             2112      \n",
      "_________________________________________________________________\n",
      "decoder_2 (LSTM)             (None, 4, 32)             6272      \n",
      "_________________________________________________________________\n",
      "decoder_3 (LSTM)             (None, 4, 64)             24832     \n",
      "_________________________________________________________________\n",
      "time_distributed_1 (TimeDist (None, 4, 52)             3380      \n",
      "=================================================================\n",
      "Total params: 82,100\n",
      "Trainable params: 82,100\n",
      "Non-trainable params: 0\n",
      "_________________________________________________________________\n",
      "None\n"
     ]
    },
    {
     "name": "stderr",
     "output_type": "stream",
     "text": [
      "2021-11-20 13:34:44.785566: I tensorflow/core/platform/cpu_feature_guard.cc:142] Your CPU supports instructions that this TensorFlow binary was not compiled to use: AVX2 FMA\n"
     ]
    },
    {
     "name": "stdout",
     "output_type": "stream",
     "text": [
      "WARNING:tensorflow:From /home/top/.pyenv/versions/3.7.12/lib/python3.7/site-packages/keras/backend/tensorflow_backend.py:422: The name tf.global_variables is deprecated. Please use tf.compat.v1.global_variables instead.\n",
      "\n",
      "Train on 210896 samples, validate on 70299 samples\n",
      "Epoch 1/100\n",
      "210896/210896 [==============================] - 234s 1ms/step - loss: 0.1229 - val_loss: 0.0790\n",
      "Epoch 2/100\n",
      " 28928/210896 [===>..........................] - ETA: 2:51 - loss: 0.0655"
     ]
    }
   ],
   "source": [
    "epochs = 1\n",
    "batch_size = 32\n",
    "window_length = 4\n",
    "from keras import metrics\n",
    "import keras\n",
    "import tensorflow as tf\n",
    "import os\n",
    "\n",
    "early_stop = tf.keras.callbacks.EarlyStopping(\n",
    "    monitor='val_loss', min_delta=1e-2, patience=5, verbose=0, mode='auto',\n",
    "    baseline=None, restore_best_weights=True)\n",
    "\n",
    "feats, X, Y, XX, YY = generate_datasets_for_training(df, 4)\n",
    "\n",
    "model = keras.Sequential()\n",
    "model.add(keras.layers.LSTM(64, kernel_initializer='he_uniform', batch_input_shape=(None, window_length, feats), return_sequences=True, name='encoder_1'))\n",
    "model.add(keras.layers.LSTM(32, kernel_initializer='he_uniform', return_sequences=True, name='encoder_2'))\n",
    "model.add(keras.layers.LSTM(16, kernel_initializer='he_uniform', return_sequences=False, name='encoder_3'))\n",
    "model.add(keras.layers.RepeatVector(window_length, name='encoder_decoder_bridge'))\n",
    "model.add(keras.layers.LSTM(16, kernel_initializer='he_uniform', return_sequences=True, name='decoder_1'))\n",
    "model.add(keras.layers.LSTM(32, kernel_initializer='he_uniform', return_sequences=True, name='decoder_2'))\n",
    "model.add(keras.layers.LSTM(64, kernel_initializer='he_uniform', return_sequences=True, name='decoder_3'))\n",
    "model.add(keras.layers.TimeDistributed(keras.layers.Dense(feats)))\n",
    "model.compile(loss=\"mse\",optimizer='adam')\n",
    "model.build()\n",
    "print(model.summary())\n",
    "\n",
    "model.fit(x=X, y=Y, validation_data=(XX, YY), epochs=epochs, batch_size=batch_size, shuffle=True, callbacks=[early_stop])\n",
    "model.save_model(\"ae\")\n"
   ]
  },
  {
   "cell_type": "code",
   "execution_count": null,
   "id": "62677df5",
   "metadata": {},
   "outputs": [],
   "source": []
  },
  {
   "cell_type": "code",
   "execution_count": null,
   "id": "3dbb5aa0",
   "metadata": {},
   "outputs": [],
   "source": []
  }
 ],
 "metadata": {
  "kernelspec": {
   "display_name": "Python 3",
   "language": "python",
   "name": "python3"
  },
  "language_info": {
   "codemirror_mode": {
    "name": "ipython",
    "version": 3
   },
   "file_extension": ".py",
   "mimetype": "text/x-python",
   "name": "python",
   "nbconvert_exporter": "python",
   "pygments_lexer": "ipython3",
   "version": "3.7.12"
  }
 },
 "nbformat": 4,
 "nbformat_minor": 5
}
