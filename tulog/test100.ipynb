{
 "cells": [
  {
   "cell_type": "markdown",
   "metadata": {},
   "source": [
    "# Orion Tulog\n",
    "\n",
    "This is a tutorial for anomaly detection using Orion. Orion is a `python` package for time series anoamly detection. It provides a suite of both statistical and machine learning models that enable efficient anomaly detection.\n",
    "\n",
    "In this tutorial, we will learn how to set up Orion, train a machine learning model, and perform anomaly detection. We will delve into each part seperately and then run the evaluation pipeline from beginning to end in order to compare multiple models against each other."
   ]
  },
  {
   "cell_type": "code",
   "execution_count": 1,
   "metadata": {},
   "outputs": [],
   "source": [
    "# general imports \n",
    "\n",
    "import numpy as np\n",
    "import pandas as pd\n",
    "import matplotlib.pyplot as plt\n",
    "\n",
    "from sklearn.impute import SimpleImputer\n",
    "from sklearn.preprocessing import MinMaxScaler\n",
    "\n",
    "from utils import plot, plot_ts, plot_rws, plot_error, unroll_ts"
   ]
  },
  {
   "cell_type": "markdown",
   "metadata": {},
   "source": [
    "## Part 1\n",
    "In part one of the series, we explore a time series data, particularly the NYC taxi data. You can find the raw data on the [TLC](https://www1.nyc.gov/site/tlc/about/tlc-trip-record-data.page) or the processed version maintained by Numenta [here](https://github.com/numenta/NAB/tree/master/data). We also explore what reasons could possibily be contributing to producing such anomalies.\n",
    "\n",
    "### Data Loading\n",
    "There is a collection of data already available in Orion, to load them, we use the `load_signal` function and pass the name of the signal we wish to obtain. Similarly, since this data is labeled, we use the `load_anomalies` function to get the corresponding anomaly of the signal"
   ]
  },
  {
   "cell_type": "code",
   "execution_count": 2,
   "metadata": {},
   "outputs": [],
   "source": [
    "from orion.data import load_signal, load_anomalies"
   ]
  },
  {
   "cell_type": "code",
   "execution_count": 3,
   "metadata": {},
   "outputs": [
    {
     "data": {
      "text/html": [
       "<div>\n",
       "<style scoped>\n",
       "    .dataframe tbody tr th:only-of-type {\n",
       "        vertical-align: middle;\n",
       "    }\n",
       "\n",
       "    .dataframe tbody tr th {\n",
       "        vertical-align: top;\n",
       "    }\n",
       "\n",
       "    .dataframe thead th {\n",
       "        text-align: right;\n",
       "    }\n",
       "</style>\n",
       "<table border=\"1\" class=\"dataframe\">\n",
       "  <thead>\n",
       "    <tr style=\"text-align: right;\">\n",
       "      <th></th>\n",
       "      <th>timestamp</th>\n",
       "      <th>FIT101</th>\n",
       "      <th>LIT101</th>\n",
       "      <th>MV101</th>\n",
       "      <th>P101</th>\n",
       "      <th>P102</th>\n",
       "      <th>AIT201</th>\n",
       "      <th>AIT202</th>\n",
       "      <th>AIT203</th>\n",
       "      <th>FIT201</th>\n",
       "      <th>...</th>\n",
       "      <th>P501</th>\n",
       "      <th>P502</th>\n",
       "      <th>PIT501</th>\n",
       "      <th>PIT502</th>\n",
       "      <th>PIT503</th>\n",
       "      <th>FIT601</th>\n",
       "      <th>P601</th>\n",
       "      <th>P602</th>\n",
       "      <th>P603</th>\n",
       "      <th>Normal/Attack</th>\n",
       "    </tr>\n",
       "  </thead>\n",
       "  <tbody>\n",
       "    <tr>\n",
       "      <th>0</th>\n",
       "      <td>1451296800000000000</td>\n",
       "      <td>2.427057</td>\n",
       "      <td>522.8467</td>\n",
       "      <td>2</td>\n",
       "      <td>2</td>\n",
       "      <td>1</td>\n",
       "      <td>262.0161</td>\n",
       "      <td>8.396437</td>\n",
       "      <td>328.6337</td>\n",
       "      <td>2.445391</td>\n",
       "      <td>...</td>\n",
       "      <td>2</td>\n",
       "      <td>1</td>\n",
       "      <td>250.8652</td>\n",
       "      <td>1.649953</td>\n",
       "      <td>189.5988</td>\n",
       "      <td>0.000128</td>\n",
       "      <td>1</td>\n",
       "      <td>1</td>\n",
       "      <td>1</td>\n",
       "      <td>Normal</td>\n",
       "    </tr>\n",
       "    <tr>\n",
       "      <th>1</th>\n",
       "      <td>1451296801000000000</td>\n",
       "      <td>2.446274</td>\n",
       "      <td>522.8860</td>\n",
       "      <td>2</td>\n",
       "      <td>2</td>\n",
       "      <td>1</td>\n",
       "      <td>262.0161</td>\n",
       "      <td>8.396437</td>\n",
       "      <td>328.6337</td>\n",
       "      <td>2.445391</td>\n",
       "      <td>...</td>\n",
       "      <td>2</td>\n",
       "      <td>1</td>\n",
       "      <td>250.8652</td>\n",
       "      <td>1.649953</td>\n",
       "      <td>189.6789</td>\n",
       "      <td>0.000128</td>\n",
       "      <td>1</td>\n",
       "      <td>1</td>\n",
       "      <td>1</td>\n",
       "      <td>Normal</td>\n",
       "    </tr>\n",
       "    <tr>\n",
       "      <th>2</th>\n",
       "      <td>1451296802000000000</td>\n",
       "      <td>2.489191</td>\n",
       "      <td>522.8467</td>\n",
       "      <td>2</td>\n",
       "      <td>2</td>\n",
       "      <td>1</td>\n",
       "      <td>262.0161</td>\n",
       "      <td>8.394514</td>\n",
       "      <td>328.6337</td>\n",
       "      <td>2.442316</td>\n",
       "      <td>...</td>\n",
       "      <td>2</td>\n",
       "      <td>1</td>\n",
       "      <td>250.8812</td>\n",
       "      <td>1.649953</td>\n",
       "      <td>189.6789</td>\n",
       "      <td>0.000128</td>\n",
       "      <td>1</td>\n",
       "      <td>1</td>\n",
       "      <td>1</td>\n",
       "      <td>Normal</td>\n",
       "    </tr>\n",
       "    <tr>\n",
       "      <th>3</th>\n",
       "      <td>1451296803000000000</td>\n",
       "      <td>2.534350</td>\n",
       "      <td>522.9645</td>\n",
       "      <td>2</td>\n",
       "      <td>2</td>\n",
       "      <td>1</td>\n",
       "      <td>262.0161</td>\n",
       "      <td>8.394514</td>\n",
       "      <td>328.6337</td>\n",
       "      <td>2.442316</td>\n",
       "      <td>...</td>\n",
       "      <td>2</td>\n",
       "      <td>1</td>\n",
       "      <td>250.8812</td>\n",
       "      <td>1.649953</td>\n",
       "      <td>189.6148</td>\n",
       "      <td>0.000128</td>\n",
       "      <td>1</td>\n",
       "      <td>1</td>\n",
       "      <td>1</td>\n",
       "      <td>Normal</td>\n",
       "    </tr>\n",
       "    <tr>\n",
       "      <th>4</th>\n",
       "      <td>1451296804000000000</td>\n",
       "      <td>2.569260</td>\n",
       "      <td>523.4748</td>\n",
       "      <td>2</td>\n",
       "      <td>2</td>\n",
       "      <td>1</td>\n",
       "      <td>262.0161</td>\n",
       "      <td>8.394514</td>\n",
       "      <td>328.6337</td>\n",
       "      <td>2.443085</td>\n",
       "      <td>...</td>\n",
       "      <td>2</td>\n",
       "      <td>1</td>\n",
       "      <td>250.8812</td>\n",
       "      <td>1.649953</td>\n",
       "      <td>189.5027</td>\n",
       "      <td>0.000128</td>\n",
       "      <td>1</td>\n",
       "      <td>1</td>\n",
       "      <td>1</td>\n",
       "      <td>Normal</td>\n",
       "    </tr>\n",
       "  </tbody>\n",
       "</table>\n",
       "<p>5 rows × 53 columns</p>\n",
       "</div>"
      ],
      "text/plain": [
       "             timestamp    FIT101    LIT101   MV101  P101  P102    AIT201  \\\n",
       "0  1451296800000000000  2.427057  522.8467       2     2     1  262.0161   \n",
       "1  1451296801000000000  2.446274  522.8860       2     2     1  262.0161   \n",
       "2  1451296802000000000  2.489191  522.8467       2     2     1  262.0161   \n",
       "3  1451296803000000000  2.534350  522.9645       2     2     1  262.0161   \n",
       "4  1451296804000000000  2.569260  523.4748       2     2     1  262.0161   \n",
       "\n",
       "     AIT202    AIT203    FIT201  ...  P501  P502    PIT501    PIT502  \\\n",
       "0  8.396437  328.6337  2.445391  ...     2     1  250.8652  1.649953   \n",
       "1  8.396437  328.6337  2.445391  ...     2     1  250.8652  1.649953   \n",
       "2  8.394514  328.6337  2.442316  ...     2     1  250.8812  1.649953   \n",
       "3  8.394514  328.6337  2.442316  ...     2     1  250.8812  1.649953   \n",
       "4  8.394514  328.6337  2.443085  ...     2     1  250.8812  1.649953   \n",
       "\n",
       "     PIT503    FIT601  P601  P602  P603  Normal/Attack  \n",
       "0  189.5988  0.000128     1     1     1         Normal  \n",
       "1  189.6789  0.000128     1     1     1         Normal  \n",
       "2  189.6789  0.000128     1     1     1         Normal  \n",
       "3  189.6148  0.000128     1     1     1         Normal  \n",
       "4  189.5027  0.000128     1     1     1         Normal  \n",
       "\n",
       "[5 rows x 53 columns]"
      ]
     },
     "execution_count": 3,
     "metadata": {},
     "output_type": "execute_result"
    }
   ],
   "source": [
    "df = pd.read_csv('swat.csv')\n",
    "df.head(5)"
   ]
  },
  {
   "cell_type": "code",
   "execution_count": 4,
   "metadata": {},
   "outputs": [],
   "source": [
    "#df = pd.read_csv('swat.csv')\n",
    "#for i in range(len(df[\"Normal/Attack\"])):\n",
    "#    if df[\"Normal/Attack\"][i] == \"Normal\":\n",
    "#        df[\"Normal/Attack\"][i] = 0\n",
    "#    else:\n",
    "#        df[\"Normal/Attack\"][i] = 1\n",
    "#df.head(10)            \n",
    "#df.to_csv('swat.csv', index=False, sep=',', encoding='utf-8')\n",
    "#del df[\"Normal/Attack\"]\n",
    "#df = pd.read_csv('swat1.csv', skiprows=1)\n",
    "#df.to_csv('swat1.csv', index=False, sep=',', encoding='utf-8')"
   ]
  },
  {
   "cell_type": "code",
   "execution_count": 5,
   "metadata": {
    "scrolled": true
   },
   "outputs": [],
   "source": [
    "#df = pd.read_csv('swat.csv')\n",
    "#df['timestamp'] = df[\"timestamp\"].apply(lambda x: pd.to_datetime(x).value)\n",
    "#df.to_csv('swat.csv', index=False, sep=',', encoding='utf-8')"
   ]
  },
  {
   "cell_type": "code",
   "execution_count": 6,
   "metadata": {},
   "outputs": [
    {
     "name": "stdout",
     "output_type": "stream",
     "text": [
      "(35, 2)\n",
      "(449919, 53)\n"
     ]
    }
   ],
   "source": [
    "#signal = 'nyc_taxi'\n",
    "signal = 'swat.csv'\n",
    "\n",
    "# load signal\n",
    "#df = load_signal(signal)\n",
    "df = pd.read_csv(signal)\n",
    "\n",
    "\n",
    "#df[\"timestamp\"] = df[\"timestamp\"] - df[\"timestamp\"][0] #normalize timestamp\n",
    "prev_state = \"Normal\"\n",
    "anomalies = []\n",
    "for ind in df.index:\n",
    "    #print(df['timestamp'][ind], df['Normal/Attack'][ind])\n",
    "    if prev_state == \"Normal\" and df['Normal/Attack'][ind] == \"Attack\":\n",
    "        start = df['timestamp'][ind]\n",
    "    if prev_state == \"Attack\" and df['Normal/Attack'][ind] == \"Normal\":\n",
    "        stop = df['timestamp'][ind-1]\n",
    "        anomalies.append([start, stop])\n",
    "        \n",
    "    prev_state = df['Normal/Attack'][ind]\n",
    "\n",
    "# load ground truth anomalies\n",
    "#known_anomalies = load_anomalies(signal)\n",
    "    \n",
    "\n",
    "known_anomalies = pd.DataFrame(anomalies, columns=['start', 'end'])\n",
    "\n",
    "#del df[\"Normal/Attack\"]\n",
    "\n",
    "#df = df.iloc[:225000]\n",
    "#df = df.iloc[:len(df.index)//2]\n",
    "#df = df.iloc[:10000]\n",
    "\n",
    "#df.head(5)\n",
    "print(known_anomalies.shape)\n",
    "print(df.shape)"
   ]
  },
  {
   "cell_type": "code",
   "execution_count": 7,
   "metadata": {
    "scrolled": false
   },
   "outputs": [
    {
     "data": {
      "image/png": "[encoded data removed]",
      "text/plain": [
       "<Figure size 2160x1440 with 1 Axes>"
      ]
     },
     "metadata": {
      "needs_background": "light"
     },
     "output_type": "display_data"
    }
   ],
   "source": [
    "#plot(df, known_anomalies)\n",
    "plt.rcParams['figure.figsize'] = [30, 20]\n",
    "df.plot(x=\"timestamp\")\n",
    "\n",
    "for ind in range(35):\n",
    "    plt.axvspan(known_anomalies[\"start\"][ind], known_anomalies[\"end\"][ind], color='red', alpha=0.5)\n",
    "\n",
    "plt.show()"
   ]
  },
  {
   "cell_type": "markdown",
   "metadata": {},
   "source": [
    "---"
   ]
  },
  {
   "cell_type": "markdown",
   "metadata": {},
   "source": [
    "## Part 2\n",
    "\n",
    "In part two of the series, we look at anomaly detection through time series reconstruction, particularly using a GAN model. We go through a sequence of transformations and data preparation, as well as model training and prediction.\n",
    "\n",
    "### Orion API\n",
    "We will use `Orion` to perform these sequence of actions. We will be emphasizing the usage of the `TadGAN` model which is a time series anomaly detection using GANs model. The model is specified in a `json` format accompanied with this notebook named `tadgan.json`. There are more pipelines defined within the repository including: ARIMA, LSTM, etc. \n",
    "\n",
    "The Orion API is a simple interface that allows you to interact with anomaly detection pipeline. To train the model on the data, we simply use the `fit` method; to do anomaly detection, we use the `detect` method. In our case, we want to fit the data and then perform detection; therefore we use the `fit_detect` method. This might take some time to run. Once it’s done, we can visualize the results.\n",
    "\n",
    "**Note**: the model might take some time to train. For experimentation purposes, you can reduce the number of `epochs` in the `tadgan.json` file such that you reduce the number of training iterations. "
   ]
  },
  {
   "cell_type": "code",
   "execution_count": 8,
   "metadata": {
    "scrolled": true
   },
   "outputs": [],
   "source": [
    "#from orion import Orion\n",
    "\n",
    "\n",
    "#orion = Orion(\n",
    "#    pipeline='tadgan_yt.json'\n",
    "#)\n",
    "\n",
    "#anomalies = orion.fit_detect(df)"
   ]
  },
  {
   "cell_type": "markdown",
   "metadata": {},
   "source": [
    "Let's visualize the results."
   ]
  },
  {
   "cell_type": "code",
   "execution_count": 9,
   "metadata": {
    "scrolled": true
   },
   "outputs": [],
   "source": [
    "#plot(df, [anomalies, known_anomalies])\n",
    "#anomalies.head(5)"
   ]
  },
  {
   "cell_type": "markdown",
   "metadata": {},
   "source": [
    "The red intervals depict the detected anomalies, the green intervals show the ground truth. Cool! the model was able to detect 4 out of 5 anomalies. We also see that it detected some other intervals that were not included in the ground truth labels. It is clear though, they are falling out of shape with respect to the remaining signal.\n",
    "_Note: the results might differ between runs._\n",
    "\n",
    "\n",
    "We might have jumped straight to the results but let's trace back and look at what the model actually did.\n",
    "\n",
    "There is a series of transformations happening to the data in order to obtain the result you have just seen. From data preprocessing, model training, to post-processing functionalities. We specify these functions, which we refer to as primitives, within the model’s `.json` file. What are these primitives? If we were to look at the `tadgan.json` model, we find these sequential primitives:\n",
    "\n",
    "```\n",
    "\"primitives\": [ \n",
    "    \"mlprimitives.custom.timeseries_preprocessing.time_segments_aggregate”,\n",
    "    \"sklearn.impute.SimpleImputer\",\n",
    "    \"sklearn.preprocessing.MinMaxScaler\",\n",
    "    \"mlprimitives.custom.timeseries_preprocessing.rolling_window_sequences\",\n",
    "    \"orion.primitives.tadgan.TadGAN\",\n",
    "    \"orion.primitives.tadgan.score_anomalies\",\n",
    "    \"orion.primitives.timeseries_anomalies.find_anomalies\"\n",
    "]\n",
    "```\n",
    "\n",
    "Each primitive is responsible for a single task. We describe the procedure of each primitive in the remainder of this notebook"
   ]
  },
  {
   "cell_type": "markdown",
   "metadata": {},
   "source": [
    "### Data Preparation \n",
    "#### A. data frequency\n",
    "Adjust signal spacing to be of equal width across all times. There are two important parameters in this process:\n",
    "- interval: an interger that refers to the time span to compute aggregation of.\n",
    "- method: what aggregation method should be used to compute the value, by default this set to the mean.\n",
    "\n",
    "In addition to, passing the array of values and which column holds the values we wish to alter the frequency of."
   ]
  },
  {
   "cell_type": "code",
   "execution_count": null,
   "metadata": {},
   "outputs": [],
   "source": [
    "def time_segments_aggregate(X, interval, time_column, method=['mean']):\n",
    "    \"\"\"Aggregate values over given time span.\n",
    "    Args:\n",
    "        X (ndarray or pandas.DataFrame):\n",
    "            N-dimensional sequence of values.\n",
    "        interval (int):\n",
    "            Integer denoting time span to compute aggregation of.\n",
    "        time_column (int):\n",
    "            Column of X that contains time values.\n",
    "        method (str or list):\n",
    "            Optional. String describing aggregation method or list of strings describing multiple\n",
    "            aggregation methods. If not given, `mean` is used.\n",
    "    Returns:\n",
    "        ndarray, ndarray:\n",
    "            * Sequence of aggregated values, one column for each aggregation method.\n",
    "            * Sequence of index values (first index of each aggregated segment).\n",
    "    \"\"\"\n",
    "    if isinstance(X, np.ndarray):\n",
    "        X = pd.DataFrame(X)\n",
    "\n",
    "    X = X.sort_values(time_column).set_index(time_column)\n",
    "\n",
    "    if isinstance(method, str):\n",
    "        method = [method]\n",
    "\n",
    "    start_ts = X.index.values[0]\n",
    "    max_ts = X.index.values[-1]\n",
    "\n",
    "    values = list()\n",
    "    index = list()\n",
    "    while start_ts <= max_ts:\n",
    "        end_ts = start_ts + interval\n",
    "        subset = X.loc[start_ts:end_ts]\n",
    "        aggregated = [\n",
    "            getattr(subset, agg)(skipna=True).values\n",
    "            for agg in method\n",
    "        ]\n",
    "        values.append(np.concatenate(aggregated))\n",
    "        index.append(start_ts)\n",
    "        start_ts = end_ts\n",
    "\n",
    "    return np.asarray(values), np.asarray(index)\n",
    "\n",
    "X_tsa, index = time_segments_aggregate(df, interval=1000000000, time_column='timestamp')"
   ]
  },
  {
   "cell_type": "code",
   "execution_count": null,
   "metadata": {},
   "outputs": [],
   "source": [
    "\n",
    "print(len(X_tsa))"
   ]
  },
  {
   "cell_type": "markdown",
   "metadata": {},
   "source": [
    "If we go back to the source of the NYC Taxi data, we find that it records a value each 30 minutes. In the timestamp world, this is equivalent to 1800 seconds, therefore we set the interval to be `1800`. We also opt for the default aggregation method which is taking the `mean` value of each interval.\n",
    "\n",
    "Technically speaking, in our example the data is perfectly spaced, so we can skip this preprocessing step. However, that is not always the case and so we include it as a preprocessing primitive in the general pipeline as you will see later on."
   ]
  },
  {
   "cell_type": "markdown",
   "metadata": {},
   "source": [
    "#### B. data imputation\n",
    "\n",
    "impute missing values that appear within the signal using scikit-learn's `SimpleImputer` which fills missing values by the mean value."
   ]
  },
  {
   "cell_type": "code",
   "execution_count": null,
   "metadata": {},
   "outputs": [],
   "source": [
    "imp = SimpleImputer()\n",
    "X_imp = imp.fit_transform(X_tsa)"
   ]
  },
  {
   "cell_type": "markdown",
   "metadata": {},
   "source": [
    "#### C. data normalization \n",
    "normalize the data between a specific range, we use scikit-learn's `MinMaxScaler` to scale data between [-1, 1]."
   ]
  },
  {
   "cell_type": "code",
   "execution_count": null,
   "metadata": {},
   "outputs": [],
   "source": [
    "scaler = MinMaxScaler(feature_range=(-1, 1)) ## for the gradients to converge faster\n",
    "X_scl = scaler.fit_transform(X_imp)"
   ]
  },
  {
   "cell_type": "markdown",
   "metadata": {},
   "source": [
    "Notice how the y-axis changed after normalizing the data between [-1, 1]"
   ]
  },
  {
   "cell_type": "code",
   "execution_count": null,
   "metadata": {},
   "outputs": [],
   "source": [
    "plot_ts(X_scl)"
   ]
  },
  {
   "cell_type": "markdown",
   "metadata": {},
   "source": [
    "#### D. slice the data to rolling window\n",
    "to prepare the data, we need to transform it into a sequence that is ingestable by the machine learning model. \n",
    "We take the signal we're interested in analyzing and we generate training examples. These training examples are mere snapshots of signal at different times.\n",
    "\n",
    "In order to do that, we adopt the sliding window approach of choosing a window of a pre-specified width and a particular step size. Once that's been decided we divide the signal indo segments, similar to what is depicited in the illustration below.\n",
    "\n",
    "<img src=\"images/sliding_window.png\" alt=\"Drawing\" style=\"width: 400px;\"/>\n",
    "\n",
    "We create a `rolling_window_sequence` function that slices the data into parts, each part contains:\n",
    "- the target value; the value at time t.\n",
    "- previous observed values, this is determined by the window width."
   ]
  },
  {
   "cell_type": "code",
   "execution_count": null,
   "metadata": {},
   "outputs": [],
   "source": [
    "def rolling_window_sequences(X, index, window_size, target_size, step_size, target_column,\n",
    "                             drop=None, drop_windows=False):\n",
    "    \"\"\"Create rolling window sequences out of time series data.\n",
    "    The function creates an array of input sequences and an array of target sequences by rolling\n",
    "    over the input sequence with a specified window.\n",
    "    Optionally, certain values can be dropped from the sequences.\n",
    "    Args:\n",
    "        X (ndarray):\n",
    "            N-dimensional sequence to iterate over.\n",
    "        index (ndarray):\n",
    "            Array containing the index values of X.\n",
    "        window_size (int):\n",
    "            Length of the input sequences.\n",
    "        target_size (int):\n",
    "            Length of the target sequences.\n",
    "        step_size (int):\n",
    "            Indicating the number of steps to move the window forward each round.\n",
    "        target_column (int):\n",
    "            Indicating which column of X is the target.\n",
    "        drop (ndarray or None or str or float or bool):\n",
    "            Optional. Array of boolean values indicating which values of X are invalid, or value\n",
    "            indicating which value should be dropped. If not given, `None` is used.\n",
    "        drop_windows (bool):\n",
    "            Optional. Indicates whether the dropping functionality should be enabled. If not\n",
    "            given, `False` is used.\n",
    "    Returns:\n",
    "        ndarray, ndarray, ndarray, ndarray:\n",
    "            * input sequences.\n",
    "            * target sequences.\n",
    "            * first index value of each input sequence.\n",
    "            * first index value of each target sequence.\n",
    "    \"\"\"\n",
    "    out_X = list()\n",
    "    out_y = list()\n",
    "    X_index = list()\n",
    "    y_index = list()\n",
    "    target = X[:, target_column]\n",
    "    print(\"X.shape: \", X.shape)\n",
    "    print(\"target.shape: \", target.shape)\n",
    "\n",
    "    if drop_windows:\n",
    "        if hasattr(drop, '__len__') and (not isinstance(drop, str)):\n",
    "            if len(drop) != len(X):\n",
    "                raise Exception('Arrays `drop` and `X` must be of the same length.')\n",
    "        else:\n",
    "            if isinstance(drop, float) and np.isnan(drop):\n",
    "                drop = np.isnan(X)\n",
    "            else:\n",
    "                drop = X == drop\n",
    "\n",
    "    start = 0\n",
    "    max_start = len(X) - window_size - target_size + 1\n",
    "    while start < max_start:\n",
    "        end = start + window_size\n",
    "\n",
    "        if drop_windows:\n",
    "            drop_window = drop[start:end + target_size]\n",
    "            to_drop = np.where(drop_window)[0]\n",
    "            if to_drop.size:\n",
    "                start += to_drop[-1] + 1\n",
    "                continue\n",
    "\n",
    "        out_X.append(X[start:end])\n",
    "        out_y.append(target[end:end + target_size])\n",
    "        X_index.append(index[start])\n",
    "        y_index.append(index[end])\n",
    "        start = start + step_size\n",
    "\n",
    "    return np.asarray(out_X), np.asarray(out_y), np.asarray(X_index), np.asarray(y_index)\n",
    "\n",
    "X_rws, y, X_index, y_index = rolling_window_sequences(X_scl, index, \n",
    "                                                  window_size=100, \n",
    "                                                  target_size=1, \n",
    "                                                  step_size=1,\n",
    "                                                  target_column=50)"
   ]
  },
  {
   "cell_type": "code",
   "execution_count": null,
   "metadata": {
    "scrolled": true
   },
   "outputs": [],
   "source": [
    "print(\"Training data input shape: {}\".format(X_rws.shape))\n",
    "print(\"Training data index shape: {}\".format(X_index.shape))\n",
    "print(\"Training y shape: {}\".format(y.shape))\n",
    "print(\"Training y index shape: {}\".format(y_index.shape))"
   ]
  },
  {
   "cell_type": "code",
   "execution_count": null,
   "metadata": {
    "scrolled": false
   },
   "outputs": [],
   "source": [
    "plot_rws(X_rws)"
   ]
  },
  {
   "cell_type": "markdown",
   "metadata": {},
   "source": [
    "Where `X` represents the input used to train the model. In the previous example, we see `X` has `10222` training data points. Notice that `100` represents the window size. On the other hand, `y` is the real signal after processing, which we will use later on to calculate the error between the reconstructed and real signal. \n",
    "\n",
    "\n",
    "### Pipeline Training and Detection\n",
    "\n",
    "The architecture of the model requires four neural networks:\n",
    "- `encoder`: maps `X` to its latent representation `Z`.\n",
    "- `generator`: maps the latent variable `Z` back to `X`, which we will denote later on as `X_hat`.\n",
    "- `criticX`: discriminates between `X` and `generator(Z)` or `X_hat`.\n",
    "- `criticZ`: discriminates between `Z` and `encoder(X)`.\n",
    "\n",
    "we detail the composition of each network in `model.py`.\n",
    "\n",
    "To use the `TadGAN` model, we specify a number of parameters including the model layers (structure of the previously mentioned neural networks). We also specify the input dimensions, the number of epochs, the learning rate, etc. All the parameters are listed below."
   ]
  },
  {
   "cell_type": "code",
   "execution_count": null,
   "metadata": {
    "scrolled": false
   },
   "outputs": [],
   "source": [
    "from model import hyperparameters\n",
    "from tadgan import TadGAN\n",
    "\n",
    "hyperparameters[\"epochs\"] = 100\n",
    "hyperparameters[\"shape\"] = (100, 51) # based on the window size\n",
    "hyperparameters[\"optimizer\"] = \"keras.optimizers.Adam\"\n",
    "hyperparameters[\"learning_rate\"] = 0.0005\n",
    "hyperparameters[\"latent_dim\"] = 20\n",
    "hyperparameters[\"batch_size\"] = 64\n",
    "\n",
    "hyperparameters[\"critic_x_input_shape\"] = (100, 51)\n",
    "\n",
    "tgan = TadGAN(**hyperparameters)\n",
    "tgan.fit(X_rws)\n",
    "tgan.save_model(str(hyperparameters[\"epochs\"]) + \"_full\")"
   ]
  },
  {
   "cell_type": "code",
   "execution_count": null,
   "metadata": {
    "scrolled": true
   },
   "outputs": [],
   "source": [
    "#from tadgan import TadGAN\n",
    "#tgan1 = TadGAN(**hyperparameters)\n",
    "#tgan1.load_model(str(hyperparameters[\"epochs\"]) + \"_full\")"
   ]
  },
  {
   "cell_type": "code",
   "execution_count": null,
   "metadata": {
    "scrolled": false
   },
   "outputs": [],
   "source": [
    "# reconstruct\n",
    "X_hat, critic = tgan.predict(X_rws)\n",
    "print(\"X_hat.shape, critic.shape: \")\n",
    "print(X_hat.shape, critic.shape)\n",
    "\n",
    "# visualize X_hat\n",
    "plot_rws(X_hat)"
   ]
  },
  {
   "cell_type": "markdown",
   "metadata": {},
   "source": [
    "To reassemble or “unroll” the predicted signal `X_hat` we can choose different aggregation methods (e.g., mean, max, etc). In our implementation, we chose it to as the median value.\n",
    "\n",
    "<img src=\"images/reconstruct.png\" alt=\"Drawing\" style=\"width: 1000px;\"/>"
   ]
  },
  {
   "cell_type": "code",
   "execution_count": null,
   "metadata": {},
   "outputs": [],
   "source": [
    "y_hat = list()\n",
    "for i in range(len(X_hat)):\n",
    "    y_hat.append(X_hat[i][0])\n",
    "    \n",
    "y_hat = np.array(y_hat)"
   ]
  },
  {
   "cell_type": "code",
   "execution_count": null,
   "metadata": {},
   "outputs": [],
   "source": [
    "# flatten the predicted windows\n",
    "#y_hat = unroll_ts(X_hat)\n",
    "print(\"X_hat.shape, y_hat.shape, y.shape: \")\n",
    "print(X_hat.shape, y_hat.shape, y.shape)\n",
    "\n",
    "# plot the time series\n",
    "plot_ts([y, y_hat], labels=['original', 'reconstructed'])"
   ]
  },
  {
   "cell_type": "code",
   "execution_count": null,
   "metadata": {},
   "outputs": [],
   "source": [
    "#np.reshape(X, (-1,52)).shape\n",
    "#plot_ts(X_hat)"
   ]
  },
  {
   "cell_type": "markdown",
   "metadata": {},
   "source": [
    "We can see that the GAN model did really well in trying to reconstruct the signal. We also see how it expected the signal to be, in comparison to what it actually is. The discrepancies between the two signals will be used to calculate the error. The higher the error, the more likely it is an anomaly"
   ]
  },
  {
   "cell_type": "code",
   "execution_count": null,
   "metadata": {},
   "outputs": [],
   "source": [
    "# pair-wise error calculation\n",
    "#error = np.zeros(shape=y.shape)\n",
    "#length = y.shape[0]\n",
    "#for i in range(length):\n",
    "#    error[i] = abs(y_hat[i] - y[i])\n",
    "\n",
    "# visualize the error curve\n",
    "#fig = plt.figure(figsize=(30, 3))\n",
    "#plt.plot(error)\n",
    "#plt.show()"
   ]
  },
  {
   "cell_type": "code",
   "execution_count": null,
   "metadata": {},
   "outputs": [],
   "source": [
    "critic[:10,:10]"
   ]
  },
  {
   "cell_type": "markdown",
   "metadata": {},
   "source": [
    "### Error Computation\n",
    "\n",
    "In the `TadGAN` pipeline, we use `tadgan.score_anomalies` to perform error calculation for us. It is a smoothed error function that uses a window based method to smooth the curve then uses either: area, point difference, or dtw as a measure of discrepancy. \n",
    "\n",
    "#### Area\n",
    "This method captures the general shape of the orignal and reconstructed signal and then compares them together. \n",
    "\n",
    "<img src=\"images/area.png\" alt=\"Drawing\" style=\"width: 300px;\"/>\n",
    "\n",
    "#### Point\n",
    "This method applies a point-to-point comparison between the original and reconstructed signal. It is considered a strict approach that does not allow for many mistakes.\n",
    "\n",
    "<img src=\"images/point.png\" alt=\"Drawing\" style=\"width: 180px;\"/>\n",
    "\n",
    "#### DTW\n",
    "A more lenient method yet very effective is Dynamic Time Warping (DTW). It compares two signals together using any pair-wise distance measure but it allows for one signal to be lagging behind another.\n",
    "\n",
    "<img src=\"images/dtw.png\" alt=\"Drawing\" style=\"width: 400px;\"/>"
   ]
  },
  {
   "cell_type": "code",
   "execution_count": null,
   "metadata": {},
   "outputs": [],
   "source": [
    "print(\"X_rws.shape, X_hat.shape, critic.shape, X_index.shape\")\n",
    "print(X_rws.shape, X_hat.shape, critic.shape, X_index.shape)"
   ]
  },
  {
   "cell_type": "code",
   "execution_count": null,
   "metadata": {},
   "outputs": [],
   "source": [
    "#true yani en bastaki hali. ona ceviriyor yani (row, 51). predictioni da o shape'e ceviriyor (row, 51)\n",
    "#predictioni cevirirken median gibi teknikler var. arastir\n",
    "#sonra da dtw. yani prediction ve true shapeleri ayni olursa dtw olmadi point bile yapariz"
   ]
  },
  {
   "cell_type": "code",
   "execution_count": null,
   "metadata": {},
   "outputs": [],
   "source": [
    "'''print(\"X_rws.shape\")\n",
    "print(X_rws.shape)\n",
    "true = []\n",
    "for item in X_rws:\n",
    "    true.append(item[0])\n",
    "    \n",
    "print(len(X_rws[-1][:]))\n",
    "    \n",
    "for item in X_rws[-1][1:]:\n",
    "    true.append(item)\n",
    "\n",
    "print(\"true.shape\")\n",
    "print(np.array(true).shape)'''"
   ]
  },
  {
   "cell_type": "code",
   "execution_count": null,
   "metadata": {},
   "outputs": [],
   "source": [
    "'''\n",
    "print(X_hat.shape)\n",
    "predictions = []\n",
    "predictions_vs = []\n",
    "\n",
    "ax = 0\n",
    "\n",
    "pred_length = X_hat.shape[1] #100\n",
    "num_errors = X_hat.shape[1] + 1 * (X_hat.shape[0] - 1) #7499\n",
    "\n",
    "for i in range(num_errors): #(0, 7499)\n",
    "    intermediate = []\n",
    "    for j in range(max(0, i - num_errors + pred_length), min(i + 1, pred_length)):\n",
    "        intermediate.append(X_hat[i - j, j])\n",
    "    if intermediate:\n",
    "        predictions.append(np.median(np.asarray(intermediate), axis=0))\n",
    "        \n",
    "        #print(np.asarray(intermediate).shape)\n",
    "\n",
    "        predictions_vs.append([[\n",
    "            np.min(np.asarray(intermediate), axis=ax),\n",
    "            np.percentile(np.asarray(intermediate), 25, axis=ax),\n",
    "            np.percentile(np.asarray(intermediate), 50, axis=ax),\n",
    "            np.percentile(np.asarray(intermediate), 75, axis=ax),\n",
    "            np.max(np.asarray(intermediate), axis=ax)\n",
    "        ]])\n",
    "\n",
    "print(\"np.array(predictions).shape, np.array(predictions_vs).shape\")        \n",
    "print(np.array(predictions).shape, np.array(predictions_vs).shape)\n",
    "'''"
   ]
  },
  {
   "cell_type": "code",
   "execution_count": null,
   "metadata": {
    "scrolled": false
   },
   "outputs": [],
   "source": [
    "from tadgan import score_anomalies\n",
    "\n",
    "error, true_index, true, pred = score_anomalies(X_rws, X_hat, critic, X_index, rec_error_type=\"dtw\", comb=\"mult\")\n",
    "print(\"error.shape, true_index.shape, true.shape, pred.shape\")\n",
    "print(np.array(error).shape, np.array(true_index).shape, np.array(true).shape, np.array(pred).shape)\n",
    "pred = np.array(pred).mean(axis=2)"
   ]
  },
  {
   "cell_type": "code",
   "execution_count": null,
   "metadata": {
    "scrolled": true
   },
   "outputs": [],
   "source": [
    "# visualize the error curve\n",
    "pred_reshaped = np.array(pred).reshape((449918,51))\n",
    "# for i in range(len(pred_reshaped[0])):\n",
    "#     plot_error([[np.array(true)[:,i], np.array(pred_reshaped)[:,i]], error])\n",
    "plot_error([[np.array(true), np.array(pred_reshaped)], error])"
   ]
  },
  {
   "cell_type": "markdown",
   "metadata": {},
   "source": [
    "Now we can visually see where the error reaches a substantially high value. But how should we decide if the error value determines a potential anomaly? We could use a fixed threshold that says if `error > 10` then let’s classify the datapoint as anomalous. "
   ]
  },
  {
   "cell_type": "code",
   "execution_count": null,
   "metadata": {},
   "outputs": [],
   "source": [
    "# threshold\n",
    "thresh = 10\n",
    "\n",
    "intervals = list()\n",
    "\n",
    "i = 0\n",
    "max_start = len(error)\n",
    "while i < max_start:\n",
    "    j = i\n",
    "    start = index[i]\n",
    "    while i < max_start and error[i] > thresh:\n",
    "        i += 1\n",
    "    \n",
    "    end = index[i]\n",
    "    if start != end:\n",
    "        intervals.append((start, end, np.mean(error[j: i+1])))\n",
    "        \n",
    "    i += 1\n",
    "        \n",
    "intervals"
   ]
  },
  {
   "cell_type": "code",
   "execution_count": null,
   "metadata": {},
   "outputs": [],
   "source": [
    "anomalies = pd.DataFrame(intervals, columns=['start', 'end', 'score'])\n",
    "#plot(df, [anomalies, known_anomalies])"
   ]
  },
  {
   "cell_type": "code",
   "execution_count": null,
   "metadata": {},
   "outputs": [],
   "source": [
    "#plot(df, known_anomalies)\n",
    "plt.rcParams['figure.figsize'] = [30, 20]\n",
    "df.plot(x=\"timestamp\")\n",
    "\n",
    "for ind in range(35):\n",
    "    plt.axvspan(known_anomalies[\"start\"][ind], known_anomalies[\"end\"][ind], color='red', alpha=0.5)\n",
    "for ind in range(len(intervals)):\n",
    "    plt.axvspan(anomalies[\"start\"][ind], anomalies[\"end\"][ind], color='blue', alpha=0.5)\n",
    "\n",
    "plt.show()"
   ]
  },
  {
   "cell_type": "markdown",
   "metadata": {},
   "source": [
    "While a fixed threshold raised two correct anomalies, it missed out on the other three. If we were to look back at the error plot, we notice that some deviations are abnormal within its local region. So how can we incorporate this information in our thresholding technique? We can use window based methods to detect anomalies with respect to their context.\n",
    "\n",
    "We first define the window of errors, that we want to analyze. We then find the anomalous\n",
    "sequences in that window by looking at the mean and standard deviation of the errors in the window.\n",
    "We store the start/stop index pairs that correspond to each sequence, along with its score. \n",
    "We then move the window and repeat the procedure.\n",
    "Lastly, we combine overlapping or consecutive sequences."
   ]
  },
  {
   "cell_type": "code",
   "execution_count": null,
   "metadata": {
    "scrolled": true
   },
   "outputs": [],
   "source": [
    "from orion.primitives.timeseries_anomalies import find_anomalies\n",
    "\n",
    "# find anomalies\n",
    "intervals_window = find_anomalies(error, index, \n",
    "                           window_size_portion=0.33, \n",
    "                           window_step_size_portion=0.1, \n",
    "                           fixed_threshold=True)\n",
    "intervals_window"
   ]
  },
  {
   "cell_type": "code",
   "execution_count": null,
   "metadata": {},
   "outputs": [],
   "source": [
    "# visualize the result\n",
    "anomalies_window = pd.DataFrame(intervals_window, columns=['start', 'end', 'score'])\n",
    "#plot(df, [anomalies, known_anomalies])"
   ]
  },
  {
   "cell_type": "code",
   "execution_count": null,
   "metadata": {},
   "outputs": [],
   "source": [
    "#plot(df, known_anomalies)\n",
    "plt.rcParams['figure.figsize'] = [30, 20]\n",
    "df.plot(x=\"timestamp\")\n",
    "\n",
    "for ind in range(35):\n",
    "    plt.axvspan(known_anomalies[\"start\"][ind], known_anomalies[\"end\"][ind], color='red', alpha=0.5)\n",
    "for ind in range(len(intervals_window)):\n",
    "    plt.axvspan(anomalies_window[\"start\"][ind], anomalies_window[\"end\"][ind], color='blue', alpha=0.5)\n",
    "\n",
    "plt.show()"
   ]
  },
  {
   "cell_type": "markdown",
   "metadata": {},
   "source": [
    "Cool! We now have the same result as we saw previously. The red intervals depict the detected anomalies, the green intervals show the ground truth. 4 out of 5 anomalies were detected. We also see that it detected some other intervals that were not included in the ground truth labels.\n",
    "\n",
    "Using the Orion API and pipelines, we simplified this process yet allowed flexibility for pipeline configuration.\n",
    "\n",
    "---"
   ]
  },
  {
   "cell_type": "markdown",
   "metadata": {},
   "source": [
    "### End-to-End Pipeline Configuration\n",
    "\n",
    "To configure a pipeline, we adjust the parameters of the primitive of interest within the `pipeline.json` file or directly by passing the dictionary to the API.\n",
    "\n",
    "In the following example, I changed the aggregation level as well as the number of `epochs` for training. These changes will override the parameters specified in the `.json` file. To know more about the API usage and primitive designs, please refer to the [documentation](https://signals-dev.github.io/Orion)."
   ]
  },
  {
   "cell_type": "code",
   "execution_count": null,
   "metadata": {},
   "outputs": [],
   "source": [
    "from orion import Orion\n",
    "\n",
    "parameters = {\n",
    "    \"mlprimitives.custom.timeseries_preprocessing.time_segments_aggregate#1\": {\n",
    "            \"interval\": 3600 # hour level\n",
    "        },\n",
    "    'orion.primitives.tadgan.TadGAN#1': {\n",
    "        'epochs': 25,\n",
    "        }\n",
    "}\n",
    "\n",
    "orion = Orion(\n",
    "    'tadgan.json',\n",
    "    parameters\n",
    ")\n",
    "\n",
    "anomalies = orion.fit_detect(df)"
   ]
  },
  {
   "cell_type": "code",
   "execution_count": null,
   "metadata": {},
   "outputs": [],
   "source": [
    "plot(df, [anomalies, known_anomalies])"
   ]
  },
  {
   "cell_type": "markdown",
   "metadata": {},
   "source": [
    "The anomalies detected in this run are a bit different from the earlier example. Although, it still succeeded in detecting anomalies. Maybe a 1 hour aggregate is not the appropriate value? Maybe we did not train the model enough times, or maybe too many times... How can we tell? One way is to look at the result of the model like we have done previously.\n",
    "\n",
    "You can use the `visualization` parameter within `detect` to return intermediate outputs (primitive outputs) that we are interested in. For example in the `tadgan.json` file, use `visualization` to return the following variables:\n",
    "\n",
    "- `X`: this is the output of the preprocessing steps from averaging, imputing, and scaling. These steps were showcased previously as steps (A, B, and C).\n",
    "- `X_hat`: this is the \"predicted\" output by the __TadGAN__ model without any processing. It represents the reconstructed window at each timepoint.\n",
    "- `es`: this is the error calculated by capturing the discrepancies between original and reconstructed signal.\n",
    "\n",
    "then we use `anomalies, viz = orion.detect(df, visualization=True)` where `viz` will be a dictionary of intermediate outputs.\n",
    "\n",
    "**Note**: we will talk more about how to evaluate the detected anommalies with respect to the ground truth in part 3 of the tutorial.\n",
    "\n",
    "---"
   ]
  },
  {
   "cell_type": "markdown",
   "metadata": {},
   "source": [
    "## Part 3\n",
    "\n",
    "In part three of the series, we look at evaluation and end-to-end anomaly detection evaluation. \n",
    "\n",
    "### Evaluation\n",
    "\n",
    "We compare the anomalies given to us as ground truth labels to the detected anomalies. But first, we look at some of the mechanisms we have for evaluation, namely:\n",
    "* **weighted segment**: Assessing every datapoint in the detected anomalies with its counterpart in the ground truth.\n",
    "* **overlap segment**: Assesses the detected anomaly segment by seeing if we caught an overlap with the correct anomalies.\n",
    "\n",
    "We will look at both approaches, but first let's construct a dummy dataset.\n",
    "\n",
    "<img src=\"images/truth_predicted.jpg\" alt=\"Drawing\" style=\"width: 600px;\"/>\n",
    "\n",
    "Let's assume that the signal starts at timestamp 1, and ends at timestamp 20. We can then see that the ground truth contains three anomalies, namely `(5, 8)`, `(12, 13)`, and `(17, 18)`, where `(i, j)` expresses the starting timestamp `i` and ending timestamp `j`.\n",
    "\n",
    "We can also see that, we detected two anomalies, namely `(5, 8)` and `(12, 15)`. So how can we compare both sets?"
   ]
  },
  {
   "cell_type": "code",
   "execution_count": null,
   "metadata": {},
   "outputs": [],
   "source": [
    "import numpy as np\n",
    "\n",
    "# to reproduce the same dummy signal\n",
    "np.random.seed(0)\n",
    "\n",
    "# dummy data\n",
    "start, end = (1, 20)\n",
    "signal = np.random.rand(end - start, 1)\n",
    "\n",
    "ground_truth = [\n",
    "    (5, 8),\n",
    "    (12, 13),\n",
    "    (17, 18)\n",
    "]\n",
    "\n",
    "anomalies = [\n",
    "    (5, 8),\n",
    "    (12, 15)\n",
    "]"
   ]
  },
  {
   "cell_type": "code",
   "execution_count": null,
   "metadata": {},
   "outputs": [],
   "source": [
    "import matplotlib.pyplot as plt\n",
    "\n",
    "time = range(start, end)\n",
    "plt.plot(time, signal)\n",
    "\n",
    "# ground truth\n",
    "for i, (t1, t2) in enumerate(ground_truth):\n",
    "    plt.axvspan(t1, t2+1, color=\"g\", alpha=0.2, label=\"ground_truth\")\n",
    "\n",
    "# detected\n",
    "for i, (t1, t2) in enumerate(anomalies):\n",
    "    plt.axvspan(t1, t2+1, color=\"r\", alpha=0.2, label=\"detected\")\n",
    "\n",
    "    \n",
    "plt.title(\"Example\")\n",
    "plt.xlabel(\"Time\")\n",
    "plt.ylabel(\"value\")\n",
    "plt.show()"
   ]
  },
  {
   "cell_type": "markdown",
   "metadata": {},
   "source": [
    "There are two approaches for comparing anomaly sets, as expressed earlier.\n",
    "\n",
    "(1) **Weighted Segment**, a stricter method, it is valuable to use when you want to equalize the importance of detecting anomalies, and normal instances. \n",
    "* It first segments the signal into partitions based on the ground truth and detected sequences. \n",
    "* Then it makes a segment to segment comparison and records TP/FP/FN/TN accordingly. \n",
    "* The overall score is weighted by the duration (size) of each segment. \n",
    "\n",
    "Visually, this operation is summarized by the illustration below. \n",
    "\n",
    "<img src=\"images/weighted_segment.jpg\" alt=\"Drawing\" style=\"width: 700px;\"/>\n",
    "\n",
    "we can use `orion.evaluation` subpackage to compute multiple metrics using the weighted segment approach. For example to compute the accuracy, we use `contextual_accuracy(..., weighted=True)`. There are other metrics available, for reference checkout the `orion.evaluation` documentation."
   ]
  },
  {
   "cell_type": "code",
   "execution_count": null,
   "metadata": {},
   "outputs": [],
   "source": [
    "from orion.evaluation.contextual import contextual_accuracy, contextual_f1_score\n",
    "\n",
    "accuracy = contextual_accuracy(ground_truth, anomalies, start=start, end=end)\n",
    "f1_score = contextual_f1_score(ground_truth, anomalies, start=start, end=end)\n",
    "\n",
    "print(\"Accuracy score = {:0.3f}\".format(accuracy))\n",
    "print(\"F1 score = {:0.3f}\".format(f1_score))"
   ]
  },
  {
   "cell_type": "markdown",
   "metadata": {},
   "source": [
    "(2) **Overlap Segment**, a more lenient approach of evaluation. It takes the perspective of rewarding the system if it manages to alarm the user of a subset of an anomaly. More particularly, it records:\n",
    "\n",
    "1) TP, if a ground truth segment overlaps with the detected segment. \n",
    "\n",
    "2) FN, If the ground truth segment does not overlap any detected segments. \n",
    "\n",
    "3) FP, If a detected  segment does not overlap any labeled anomalous region. \n",
    "\n",
    "This can be summarized by the illustration below.\n",
    "\n",
    "<img src=\"images/overlap_segment.jpg\" alt=\"Drawing\" style=\"width: 700px;\"/>\n",
    "\n",
    "Similarly, we can use the same metric functions, but this time we use the parameter `weighted=False`. Note: overlap segment approach, does not account for true negatives. Reason being, anomalies in time series data are rare and so \"normal\" instances will skew the value of the computed metric. Therefore, using this approach we cannot compute metrics such as the `accuracy`. "
   ]
  },
  {
   "cell_type": "code",
   "execution_count": null,
   "metadata": {},
   "outputs": [],
   "source": [
    "f1_score = contextual_f1_score(ground_truth, anomalies, start=start, end=end, weighted=False)\n",
    "\n",
    "print(\"F1 score = {:0.3f}\".format(f1_score))"
   ]
  },
  {
   "cell_type": "markdown",
   "metadata": {},
   "source": [
    "### Pipeline evaluation end-to-end \n",
    "\n",
    "We integrate the evaluation suite into the Orion API, such that you can evaluate the pipeline on a dataset (with its labels) end-to-end. \n",
    "\n",
    "Following part 2 introduction to the Orion API, we can create an `orion` instance the use its `evaluate` functionality. We support the method with the following arguments:\n",
    "* `data`, a `pandas.DataFrame` containing two columns: timestamp and value.\n",
    "* `truth`, a `pandas.DataFrame` containing two columns: start timestamp and end timestamp of ground truth labels \n",
    "* `fit`, a flag denoting whether to train the pipeline before evaluating it.\n",
    "train_data, a `pandas.DataFrame` containing two columns: timestamp and value used to train the pipeline, if not given, the pipeline will be trained on `data`.\n",
    "* `metrics`, a list of metrics used to evaluate the pipeline. \n",
    "\n",
    "In the previous part we went through how to train a pipeline and use it for anomaly detection, the focus now is on defining `metrics` and evaluating the performance of the pipeline.\n",
    "\n",
    "`metrics` is list of function names that compares a ground truth labels against detected labels and returns a metric value. We have seen some functions of that sort, such as `contextual_accuracy` and `contextual_f1_score`. To construct our metrics list we select some of the predefined metrics in Orion, such as:\n",
    "* Accuracy\n",
    "* F1 Score\n",
    "* Precision\n",
    "* Recall\n",
    "\n",
    "By default, we use the `weighted segment` approach, you can override metrics defined by specifying aa new `metrics` dictitonary."
   ]
  },
  {
   "cell_type": "code",
   "execution_count": null,
   "metadata": {},
   "outputs": [],
   "source": [
    "from orion import Orion\n",
    "from orion.data import load_signal, load_anomalies\n",
    "from orion.evaluation.contextual import contextual_accuracy, contextual_f1_score, contextual_precision\n",
    "\n",
    "metrics = [\n",
    "    'f1',\n",
    "    'recall',\n",
    "    'precision',\n",
    "]\n",
    "\n",
    "orion = Orion(\n",
    "    'tadgan.json'\n",
    ")\n",
    "\n",
    "signal = 'nyc_taxi'\n",
    "\n",
    "# load signal\n",
    "df = load_signal(signal)\n",
    "\n",
    "# load ground truth anomalies\n",
    "ground_truth = load_anomalies(signal)\n",
    "\n",
    "scores = orion.evaluate(df, ground_truth, fit=True, metrics=metrics)"
   ]
  },
  {
   "cell_type": "code",
   "execution_count": null,
   "metadata": {},
   "outputs": [],
   "source": [
    "scores"
   ]
  }
 ],
 "metadata": {
  "kernelspec": {
   "display_name": "Python 3",
   "language": "python",
   "name": "python3"
  },
  "language_info": {
   "codemirror_mode": {
    "name": "ipython",
    "version": 3
   },
   "file_extension": ".py",
   "mimetype": "text/x-python",
   "name": "python",
   "nbconvert_exporter": "python",
   "pygments_lexer": "ipython3",
   "version": "3.7.12"
  }
 },
 "nbformat": 4,
 "nbformat_minor": 2
}
