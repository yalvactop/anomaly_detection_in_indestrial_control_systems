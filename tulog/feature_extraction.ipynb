{
 "cells": [
  {
   "cell_type": "code",
   "execution_count": 8,
   "id": "691e5765",
   "metadata": {},
   "outputs": [],
   "source": [
    "import numpy as np\n",
    "import pandas as pd\n",
    "import matplotlib.pyplot as plt\n",
    "\n",
    "from sklearn.impute import SimpleImputer\n",
    "from sklearn.preprocessing import MinMaxScaler\n",
    "\n",
    "from sklearn.feature_selection import SelectKBest, chi2"
   ]
  },
  {
   "cell_type": "code",
   "execution_count": 9,
   "id": "a9b11c54",
   "metadata": {},
   "outputs": [
    {
     "data": {
      "text/html": [
       "<div>\n",
       "<style scoped>\n",
       "    .dataframe tbody tr th:only-of-type {\n",
       "        vertical-align: middle;\n",
       "    }\n",
       "\n",
       "    .dataframe tbody tr th {\n",
       "        vertical-align: top;\n",
       "    }\n",
       "\n",
       "    .dataframe thead th {\n",
       "        text-align: right;\n",
       "    }\n",
       "</style>\n",
       "<table border=\"1\" class=\"dataframe\">\n",
       "  <thead>\n",
       "    <tr style=\"text-align: right;\">\n",
       "      <th></th>\n",
       "      <th>timestamp</th>\n",
       "      <th>FIT101</th>\n",
       "      <th>LIT101</th>\n",
       "      <th>MV101</th>\n",
       "      <th>P101</th>\n",
       "      <th>P102</th>\n",
       "      <th>AIT201</th>\n",
       "      <th>AIT202</th>\n",
       "      <th>AIT203</th>\n",
       "      <th>FIT201</th>\n",
       "      <th>...</th>\n",
       "      <th>FIT504</th>\n",
       "      <th>P501</th>\n",
       "      <th>P502</th>\n",
       "      <th>PIT501</th>\n",
       "      <th>PIT502</th>\n",
       "      <th>PIT503</th>\n",
       "      <th>FIT601</th>\n",
       "      <th>P601</th>\n",
       "      <th>P602</th>\n",
       "      <th>P603</th>\n",
       "    </tr>\n",
       "  </thead>\n",
       "  <tbody>\n",
       "    <tr>\n",
       "      <th>7495</th>\n",
       "      <td>1451304295000000000</td>\n",
       "      <td>2.583352</td>\n",
       "      <td>510.4036</td>\n",
       "      <td>2</td>\n",
       "      <td>2</td>\n",
       "      <td>1</td>\n",
       "      <td>263.4261</td>\n",
       "      <td>8.370802</td>\n",
       "      <td>329.5309</td>\n",
       "      <td>2.442828</td>\n",
       "      <td>...</td>\n",
       "      <td>0.306505</td>\n",
       "      <td>2</td>\n",
       "      <td>1</td>\n",
       "      <td>249.5514</td>\n",
       "      <td>1.778105</td>\n",
       "      <td>188.5734</td>\n",
       "      <td>1.737353</td>\n",
       "      <td>1</td>\n",
       "      <td>2</td>\n",
       "      <td>1</td>\n",
       "    </tr>\n",
       "    <tr>\n",
       "      <th>7496</th>\n",
       "      <td>1451304296000000000</td>\n",
       "      <td>2.589117</td>\n",
       "      <td>510.2073</td>\n",
       "      <td>2</td>\n",
       "      <td>2</td>\n",
       "      <td>1</td>\n",
       "      <td>263.4261</td>\n",
       "      <td>8.370802</td>\n",
       "      <td>329.5309</td>\n",
       "      <td>2.444879</td>\n",
       "      <td>...</td>\n",
       "      <td>0.306633</td>\n",
       "      <td>2</td>\n",
       "      <td>1</td>\n",
       "      <td>249.5514</td>\n",
       "      <td>1.778105</td>\n",
       "      <td>188.6535</td>\n",
       "      <td>1.737161</td>\n",
       "      <td>1</td>\n",
       "      <td>2</td>\n",
       "      <td>1</td>\n",
       "    </tr>\n",
       "    <tr>\n",
       "      <th>7497</th>\n",
       "      <td>1451304297000000000</td>\n",
       "      <td>2.592000</td>\n",
       "      <td>510.0896</td>\n",
       "      <td>2</td>\n",
       "      <td>2</td>\n",
       "      <td>1</td>\n",
       "      <td>263.4261</td>\n",
       "      <td>8.370802</td>\n",
       "      <td>329.5309</td>\n",
       "      <td>2.444879</td>\n",
       "      <td>...</td>\n",
       "      <td>0.306953</td>\n",
       "      <td>2</td>\n",
       "      <td>1</td>\n",
       "      <td>249.6635</td>\n",
       "      <td>1.778105</td>\n",
       "      <td>188.6535</td>\n",
       "      <td>1.736584</td>\n",
       "      <td>1</td>\n",
       "      <td>2</td>\n",
       "      <td>1</td>\n",
       "    </tr>\n",
       "    <tr>\n",
       "      <th>7498</th>\n",
       "      <td>1451304298000000000</td>\n",
       "      <td>2.592000</td>\n",
       "      <td>510.1288</td>\n",
       "      <td>2</td>\n",
       "      <td>2</td>\n",
       "      <td>1</td>\n",
       "      <td>263.4261</td>\n",
       "      <td>8.370802</td>\n",
       "      <td>329.5309</td>\n",
       "      <td>2.444879</td>\n",
       "      <td>...</td>\n",
       "      <td>0.306953</td>\n",
       "      <td>2</td>\n",
       "      <td>1</td>\n",
       "      <td>249.6635</td>\n",
       "      <td>1.778105</td>\n",
       "      <td>188.5254</td>\n",
       "      <td>1.736584</td>\n",
       "      <td>1</td>\n",
       "      <td>2</td>\n",
       "      <td>1</td>\n",
       "    </tr>\n",
       "    <tr>\n",
       "      <th>7499</th>\n",
       "      <td>1451304299000000000</td>\n",
       "      <td>2.592000</td>\n",
       "      <td>509.7363</td>\n",
       "      <td>2</td>\n",
       "      <td>2</td>\n",
       "      <td>1</td>\n",
       "      <td>263.4261</td>\n",
       "      <td>8.368238</td>\n",
       "      <td>329.5309</td>\n",
       "      <td>2.444879</td>\n",
       "      <td>...</td>\n",
       "      <td>0.306889</td>\n",
       "      <td>2</td>\n",
       "      <td>1</td>\n",
       "      <td>249.6635</td>\n",
       "      <td>1.778105</td>\n",
       "      <td>188.5254</td>\n",
       "      <td>1.736584</td>\n",
       "      <td>1</td>\n",
       "      <td>2</td>\n",
       "      <td>1</td>\n",
       "    </tr>\n",
       "  </tbody>\n",
       "</table>\n",
       "<p>5 rows × 52 columns</p>\n",
       "</div>"
      ],
      "text/plain": [
       "                timestamp    FIT101    LIT101   MV101  P101  P102    AIT201  \\\n",
       "7495  1451304295000000000  2.583352  510.4036       2     2     1  263.4261   \n",
       "7496  1451304296000000000  2.589117  510.2073       2     2     1  263.4261   \n",
       "7497  1451304297000000000  2.592000  510.0896       2     2     1  263.4261   \n",
       "7498  1451304298000000000  2.592000  510.1288       2     2     1  263.4261   \n",
       "7499  1451304299000000000  2.592000  509.7363       2     2     1  263.4261   \n",
       "\n",
       "        AIT202    AIT203    FIT201  ...    FIT504  P501  P502    PIT501  \\\n",
       "7495  8.370802  329.5309  2.442828  ...  0.306505     2     1  249.5514   \n",
       "7496  8.370802  329.5309  2.444879  ...  0.306633     2     1  249.5514   \n",
       "7497  8.370802  329.5309  2.444879  ...  0.306953     2     1  249.6635   \n",
       "7498  8.370802  329.5309  2.444879  ...  0.306953     2     1  249.6635   \n",
       "7499  8.368238  329.5309  2.444879  ...  0.306889     2     1  249.6635   \n",
       "\n",
       "        PIT502    PIT503    FIT601  P601  P602  P603  \n",
       "7495  1.778105  188.5734  1.737353     1     2     1  \n",
       "7496  1.778105  188.6535  1.737161     1     2     1  \n",
       "7497  1.778105  188.6535  1.736584     1     2     1  \n",
       "7498  1.778105  188.5254  1.736584     1     2     1  \n",
       "7499  1.778105  188.5254  1.736584     1     2     1  \n",
       "\n",
       "[5 rows x 52 columns]"
      ]
     },
     "execution_count": 9,
     "metadata": {},
     "output_type": "execute_result"
    }
   ],
   "source": [
    "df = pd.read_csv('swat.csv')\n",
    "#df.shape\n",
    "\n",
    "#df = df.iloc[:5*len(df.index)//8]\n",
    "#df = df.iloc[:len(df.index)//2]\n",
    "df = df.iloc[:7500]\n",
    "y = df[\"Normal/Attack\"]\n",
    "del df[\"Normal/Attack\"]\n",
    "df.tail(5)"
   ]
  },
  {
   "cell_type": "code",
   "execution_count": 10,
   "id": "5c752d9b",
   "metadata": {},
   "outputs": [],
   "source": [
    "def time_segments_aggregate(X, interval, time_column, method=['mean']):\n",
    "    \"\"\"Aggregate values over given time span.\n",
    "    Args:\n",
    "        X (ndarray or pandas.DataFrame):\n",
    "            N-dimensional sequence of values.\n",
    "        interval (int):\n",
    "            Integer denoting time span to compute aggregation of.\n",
    "        time_column (int):\n",
    "            Column of X that contains time values.\n",
    "        method (str or list):\n",
    "            Optional. String describing aggregation method or list of strings describing multiple\n",
    "            aggregation methods. If not given, `mean` is used.\n",
    "    Returns:\n",
    "        ndarray, ndarray:\n",
    "            * Sequence of aggregated values, one column for each aggregation method.\n",
    "            * Sequence of index values (first index of each aggregated segment).\n",
    "    \"\"\"\n",
    "    if isinstance(X, np.ndarray):\n",
    "        X = pd.DataFrame(X)\n",
    "\n",
    "    X = X.sort_values(time_column).set_index(time_column)\n",
    "\n",
    "    if isinstance(method, str):\n",
    "        method = [method]\n",
    "\n",
    "    start_ts = X.index.values[0]\n",
    "    max_ts = X.index.values[-1]\n",
    "\n",
    "    values = list()\n",
    "    index = list()\n",
    "    while start_ts <= max_ts:\n",
    "        end_ts = start_ts + interval\n",
    "        subset = X.loc[start_ts:end_ts]\n",
    "        aggregated = [\n",
    "            getattr(subset, agg)(skipna=True).values\n",
    "            for agg in method\n",
    "        ]\n",
    "        values.append(np.concatenate(aggregated))\n",
    "        index.append(start_ts)\n",
    "        start_ts = end_ts\n",
    "\n",
    "    return np.asarray(values), np.asarray(index)\n",
    "\n",
    "X_tsa, index = time_segments_aggregate(df, interval=1000000000, time_column='timestamp')"
   ]
  },
  {
   "cell_type": "code",
   "execution_count": 11,
   "id": "01b2f9ff",
   "metadata": {},
   "outputs": [],
   "source": [
    "imp = SimpleImputer()\n",
    "X_imp = imp.fit_transform(X_tsa)"
   ]
  },
  {
   "cell_type": "code",
   "execution_count": 12,
   "id": "3df7c3e4",
   "metadata": {},
   "outputs": [
    {
     "data": {
      "text/plain": [
       "(7500, 51)"
      ]
     },
     "execution_count": 12,
     "metadata": {},
     "output_type": "execute_result"
    }
   ],
   "source": [
    "scaler = MinMaxScaler(feature_range=(0, 1)) ## for the gradients to converge faster == try 0-1 StandardScaler()\n",
    "X_scl = scaler.fit_transform(X_imp)\n",
    "X_scl.shape"
   ]
  },
  {
   "cell_type": "code",
   "execution_count": 13,
   "id": "395c6284",
   "metadata": {},
   "outputs": [
    {
     "data": {
      "text/plain": [
       "array([0, 0, 0, ..., 0, 0, 0])"
      ]
     },
     "execution_count": 13,
     "metadata": {},
     "output_type": "execute_result"
    }
   ],
   "source": [
    "y = np.array(y, dtype=str)\n",
    "y_binary = []\n",
    "for i in y:\n",
    "    if i == \"Normal\":\n",
    "        y_binary.append(0)\n",
    "    else:\n",
    "        y_binary.append(1)\n",
    "        \n",
    "y_binary = np.array(y_binary)\n",
    "y_binary"
   ]
  },
  {
   "cell_type": "code",
   "execution_count": 17,
   "id": "05268acf",
   "metadata": {},
   "outputs": [
    {
     "data": {
      "text/plain": [
       "array([9.07118188e-01, 7.94695400e-02, 1.00000000e+00, 1.00000000e+00,\n",
       "       0.00000000e+00, 9.69911906e-01, 7.00800432e-01, 8.71841595e-01,\n",
       "       1.00000000e+00, 1.00000000e+00, 1.00000000e+00, 7.51658934e-01,\n",
       "       7.36774901e-01, 7.31694322e-01, 3.75810794e-01, 3.13731489e-01,\n",
       "       7.70974266e-01, 7.27519061e-01, 7.36975463e-05, 0.00000000e+00])"
      ]
     },
     "execution_count": 17,
     "metadata": {},
     "output_type": "execute_result"
    }
   ],
   "source": [
    "select = SelectKBest(chi2, k=20)\n",
    "X_chi2 = select.fit_transform(X_scl, y)\n",
    "X_chi2[0]"
   ]
  },
  {
   "cell_type": "code",
   "execution_count": 34,
   "id": "94c2eebe",
   "metadata": {},
   "outputs": [
    {
     "data": {
      "text/plain": [
       "array(['timestamp', 'FIT101', 'LIT101', ' MV101', 'P101', 'P102',\n",
       "       ' AIT201', 'AIT202', 'AIT203', 'FIT201', ' MV201', ' P201',\n",
       "       ' P202', 'P203', ' P204', 'P205', 'P206', 'DPIT301', 'FIT301',\n",
       "       'LIT301', 'MV301', 'MV302', ' MV303', 'MV304', 'P301', 'P302',\n",
       "       'AIT401', 'AIT402', 'FIT401', 'LIT401', 'P401', 'P402', 'P403',\n",
       "       'P404', 'UV401', 'AIT501', 'AIT502', 'AIT503', 'AIT504', 'FIT501',\n",
       "       'FIT502', 'FIT503', 'FIT504', 'P501', 'P502', 'PIT501', 'PIT502',\n",
       "       'PIT503', 'FIT601', 'P601', 'P602', 'P603'], dtype='<U9')"
      ]
     },
     "execution_count": 34,
     "metadata": {},
     "output_type": "execute_result"
    }
   ],
   "source": [
    "features = np.array(df.columns, dtype=str)\n",
    "features"
   ]
  },
  {
   "cell_type": "code",
   "execution_count": 42,
   "id": "e5392369",
   "metadata": {},
   "outputs": [
    {
     "data": {
      "text/plain": [
       "52"
      ]
     },
     "execution_count": 42,
     "metadata": {},
     "output_type": "execute_result"
    }
   ],
   "source": [
    "len(features)"
   ]
  },
  {
   "cell_type": "code",
   "execution_count": 43,
   "id": "993541d3",
   "metadata": {},
   "outputs": [
    {
     "data": {
      "text/plain": [
       "51"
      ]
     },
     "execution_count": 43,
     "metadata": {},
     "output_type": "execute_result"
    }
   ],
   "source": [
    "filter = select.get_support()\n",
    "len(filter)"
   ]
  },
  {
   "cell_type": "code",
   "execution_count": 47,
   "id": "a9bde9b6",
   "metadata": {},
   "outputs": [
    {
     "name": "stdout",
     "output_type": "stream",
     "text": [
      "0\n",
      "1\n",
      "2\n",
      "3\n",
      "4\n",
      "5\n",
      "6\n",
      "7\n",
      "8\n",
      "9\n",
      "10\n",
      "11\n",
      "12\n",
      "13\n",
      "14\n",
      "15\n",
      "16\n",
      "17\n",
      "18\n",
      "19\n",
      "20\n",
      "21\n",
      "22\n",
      "23\n",
      "24\n",
      "25\n",
      "26\n",
      "27\n",
      "28\n",
      "29\n",
      "30\n",
      "31\n",
      "32\n",
      "33\n",
      "34\n",
      "35\n",
      "36\n",
      "37\n",
      "38\n",
      "39\n",
      "40\n",
      "41\n",
      "42\n",
      "43\n",
      "44\n",
      "45\n",
      "46\n",
      "47\n",
      "48\n",
      "49\n"
     ]
    }
   ],
   "source": [
    "selected_features = []\n",
    "for i in range(len(features)-2):\n",
    "    print(i)\n",
    "    if filter[i]:\n",
    "        selected_features.append(features[i+1])"
   ]
  },
  {
   "cell_type": "code",
   "execution_count": null,
   "id": "072316a6",
   "metadata": {},
   "outputs": [],
   "source": []
  }
 ],
 "metadata": {
  "kernelspec": {
   "display_name": "Python 3",
   "language": "python",
   "name": "python3"
  },
  "language_info": {
   "codemirror_mode": {
    "name": "ipython",
    "version": 3
   },
   "file_extension": ".py",
   "mimetype": "text/x-python",
   "name": "python",
   "nbconvert_exporter": "python",
   "pygments_lexer": "ipython3",
   "version": "3.7.12"
  }
 },
 "nbformat": 4,
 "nbformat_minor": 5
}
