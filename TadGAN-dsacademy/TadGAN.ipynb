{
 "cells": [
  {
   "cell_type": "markdown",
   "metadata": {
    "id": "jVhHscIMEtMz"
   },
   "source": [
    "### TadGAN for Tensorflow 2.0 "
   ]
  },
  {
   "cell_type": "markdown",
   "metadata": {
    "id": "NvvVAq07YKLP"
   },
   "source": [
    "#### Part 1\n",
    "- Connect and authenticate user google drive \n",
    "- Data load and prepare"
   ]
  },
  {
   "cell_type": "code",
   "execution_count": 11,
   "metadata": {
    "id": "E_TAcBTAVPOj"
   },
   "outputs": [
    {
     "ename": "ModuleNotFoundError",
     "evalue": "No module named 'google.colab'",
     "output_type": "error",
     "traceback": [
      "\u001b[1;31m---------------------------------------------------------------------------\u001b[0m",
      "\u001b[1;31mModuleNotFoundError\u001b[0m                       Traceback (most recent call last)",
      "\u001b[1;32m<ipython-input-11-56786af0de38>\u001b[0m in \u001b[0;36m<module>\u001b[1;34m\u001b[0m\n\u001b[0;32m      1\u001b[0m \u001b[1;31m# drive mount\u001b[0m\u001b[1;33m\u001b[0m\u001b[1;33m\u001b[0m\u001b[1;33m\u001b[0m\u001b[0m\n\u001b[1;32m----> 2\u001b[1;33m \u001b[1;32mfrom\u001b[0m \u001b[0mgoogle\u001b[0m\u001b[1;33m.\u001b[0m\u001b[0mcolab\u001b[0m \u001b[1;32mimport\u001b[0m \u001b[0mdrive\u001b[0m\u001b[1;33m\u001b[0m\u001b[1;33m\u001b[0m\u001b[0m\n\u001b[0m\u001b[0;32m      3\u001b[0m \u001b[0mdrive\u001b[0m\u001b[1;33m.\u001b[0m\u001b[0mmount\u001b[0m\u001b[1;33m(\u001b[0m\u001b[1;34m'/content/drive'\u001b[0m\u001b[1;33m)\u001b[0m\u001b[1;31m#, force_remount=True)  # Force_remount 는 강제적으로 해당 경로로 mount 하겠다는 것입니다.\u001b[0m\u001b[1;33m\u001b[0m\u001b[1;33m\u001b[0m\u001b[0m\n",
      "\u001b[1;31mModuleNotFoundError\u001b[0m: No module named 'google.colab'"
     ]
    }
   ],
   "source": [
    "# drive mount \n",
    "from google.colab import drive\n",
    "drive.mount('/content/drive')#, force_remount=True)  # Force_remount 는 강제적으로 해당 경로로 mount 하겠다는 것입니다. "
   ]
  },
  {
   "cell_type": "code",
   "execution_count": 12,
   "metadata": {
    "id": "O8C3rTcZVgzM"
   },
   "outputs": [
    {
     "ename": "FileNotFoundError",
     "evalue": "[WinError 3] The system cannot find the path specified: '/content/drive/My Drive/CoLab/TimeSeries/TadGAN'",
     "output_type": "error",
     "traceback": [
      "\u001b[1;31m---------------------------------------------------------------------------\u001b[0m",
      "\u001b[1;31mFileNotFoundError\u001b[0m                         Traceback (most recent call last)",
      "\u001b[1;32m<ipython-input-12-8bc54d494415>\u001b[0m in \u001b[0;36m<module>\u001b[1;34m\u001b[0m\n\u001b[1;32m----> 1\u001b[1;33m \u001b[0mos\u001b[0m\u001b[1;33m.\u001b[0m\u001b[0mchdir\u001b[0m\u001b[1;33m(\u001b[0m\u001b[1;34m'/content/drive/My Drive/CoLab/TimeSeries/TadGAN'\u001b[0m\u001b[1;33m)\u001b[0m \u001b[1;31m# 다음 python 실행 부터는 해당 코드만 실행하면 됩니다.\u001b[0m\u001b[1;33m\u001b[0m\u001b[1;33m\u001b[0m\u001b[0m\n\u001b[0m",
      "\u001b[1;31mFileNotFoundError\u001b[0m: [WinError 3] The system cannot find the path specified: '/content/drive/My Drive/CoLab/TimeSeries/TadGAN'"
     ]
    }
   ],
   "source": [
    "os.chdir('/content/drive/My Drive/CoLab/TimeSeries/TadGAN') # 다음 python 실행 부터는 해당 코드만 실행하면 됩니다."
   ]
  },
  {
   "cell_type": "code",
   "execution_count": null,
   "metadata": {
    "id": "R71s6TR4U72u"
   },
   "outputs": [],
   "source": [
    "# load generals\n",
    "import os\n",
    "import sys\n",
    "import numpy as np\n",
    "import pandas as pd\n",
    "import matplotlib.pyplot as plt\n",
    "\n",
    "from sklearn.impute import SimpleImputer\n",
    "from sklearn.preprocessing import MinMaxScaler\n",
    "\n",
    "from utils import plot, plot_ts, plot_rws, plot_error, unroll_ts"
   ]
  },
  {
   "cell_type": "code",
   "execution_count": 2,
   "metadata": {
    "id": "XKNr2O4aYT5m"
   },
   "outputs": [],
   "source": [
    "df = pd.read_csv('SWaT_Dataset_Normal_v0.csv')"
   ]
  },
  {
   "cell_type": "code",
   "execution_count": 3,
   "metadata": {
    "id": "EBg4-_DoYgwG",
    "scrolled": true
   },
   "outputs": [
    {
     "data": {
      "text/html": [
       "<div>\n",
       "<style scoped>\n",
       "    .dataframe tbody tr th:only-of-type {\n",
       "        vertical-align: middle;\n",
       "    }\n",
       "\n",
       "    .dataframe tbody tr th {\n",
       "        vertical-align: top;\n",
       "    }\n",
       "\n",
       "    .dataframe thead th {\n",
       "        text-align: right;\n",
       "    }\n",
       "</style>\n",
       "<table border=\"1\" class=\"dataframe\">\n",
       "  <thead>\n",
       "    <tr style=\"text-align: right;\">\n",
       "      <th></th>\n",
       "      <th>Timestamp</th>\n",
       "      <th>FIT101</th>\n",
       "      <th>LIT101</th>\n",
       "      <th>MV101</th>\n",
       "      <th>P101</th>\n",
       "      <th>P102</th>\n",
       "      <th>AIT201</th>\n",
       "      <th>AIT202</th>\n",
       "      <th>AIT203</th>\n",
       "      <th>FIT201</th>\n",
       "      <th>...</th>\n",
       "      <th>P501</th>\n",
       "      <th>P502</th>\n",
       "      <th>PIT501</th>\n",
       "      <th>PIT502</th>\n",
       "      <th>PIT503</th>\n",
       "      <th>FIT601</th>\n",
       "      <th>P601</th>\n",
       "      <th>P602</th>\n",
       "      <th>P603</th>\n",
       "      <th>Normal/Attack</th>\n",
       "    </tr>\n",
       "  </thead>\n",
       "  <tbody>\n",
       "    <tr>\n",
       "      <th>0</th>\n",
       "      <td>22/12/2015 4:00:00 PM</td>\n",
       "      <td>2.470294</td>\n",
       "      <td>261.5804</td>\n",
       "      <td>2</td>\n",
       "      <td>2</td>\n",
       "      <td>1</td>\n",
       "      <td>244.3284</td>\n",
       "      <td>8.19008</td>\n",
       "      <td>306.101</td>\n",
       "      <td>2.471278</td>\n",
       "      <td>...</td>\n",
       "      <td>1</td>\n",
       "      <td>1</td>\n",
       "      <td>10.02948</td>\n",
       "      <td>0.0</td>\n",
       "      <td>4.277749</td>\n",
       "      <td>0.000256</td>\n",
       "      <td>1</td>\n",
       "      <td>1</td>\n",
       "      <td>1</td>\n",
       "      <td>Normal</td>\n",
       "    </tr>\n",
       "    <tr>\n",
       "      <th>1</th>\n",
       "      <td>22/12/2015 4:00:01 PM</td>\n",
       "      <td>2.457163</td>\n",
       "      <td>261.1879</td>\n",
       "      <td>2</td>\n",
       "      <td>2</td>\n",
       "      <td>1</td>\n",
       "      <td>244.3284</td>\n",
       "      <td>8.19008</td>\n",
       "      <td>306.101</td>\n",
       "      <td>2.468587</td>\n",
       "      <td>...</td>\n",
       "      <td>1</td>\n",
       "      <td>1</td>\n",
       "      <td>10.02948</td>\n",
       "      <td>0.0</td>\n",
       "      <td>4.277749</td>\n",
       "      <td>0.000256</td>\n",
       "      <td>1</td>\n",
       "      <td>1</td>\n",
       "      <td>1</td>\n",
       "      <td>Normal</td>\n",
       "    </tr>\n",
       "    <tr>\n",
       "      <th>2</th>\n",
       "      <td>22/12/2015 4:00:02 PM</td>\n",
       "      <td>2.439548</td>\n",
       "      <td>260.9131</td>\n",
       "      <td>2</td>\n",
       "      <td>2</td>\n",
       "      <td>1</td>\n",
       "      <td>244.3284</td>\n",
       "      <td>8.19008</td>\n",
       "      <td>306.101</td>\n",
       "      <td>2.467305</td>\n",
       "      <td>...</td>\n",
       "      <td>1</td>\n",
       "      <td>1</td>\n",
       "      <td>10.02948</td>\n",
       "      <td>0.0</td>\n",
       "      <td>4.277749</td>\n",
       "      <td>0.000256</td>\n",
       "      <td>1</td>\n",
       "      <td>1</td>\n",
       "      <td>1</td>\n",
       "      <td>Normal</td>\n",
       "    </tr>\n",
       "    <tr>\n",
       "      <th>3</th>\n",
       "      <td>22/12/2015 4:00:03 PM</td>\n",
       "      <td>2.428338</td>\n",
       "      <td>260.2850</td>\n",
       "      <td>2</td>\n",
       "      <td>2</td>\n",
       "      <td>1</td>\n",
       "      <td>244.3284</td>\n",
       "      <td>8.19008</td>\n",
       "      <td>306.101</td>\n",
       "      <td>2.466536</td>\n",
       "      <td>...</td>\n",
       "      <td>1</td>\n",
       "      <td>1</td>\n",
       "      <td>10.02948</td>\n",
       "      <td>0.0</td>\n",
       "      <td>4.277749</td>\n",
       "      <td>0.000256</td>\n",
       "      <td>1</td>\n",
       "      <td>1</td>\n",
       "      <td>1</td>\n",
       "      <td>Normal</td>\n",
       "    </tr>\n",
       "    <tr>\n",
       "      <th>4</th>\n",
       "      <td>22/12/2015 4:00:04 PM</td>\n",
       "      <td>2.424815</td>\n",
       "      <td>259.8925</td>\n",
       "      <td>2</td>\n",
       "      <td>2</td>\n",
       "      <td>1</td>\n",
       "      <td>244.4245</td>\n",
       "      <td>8.19008</td>\n",
       "      <td>306.101</td>\n",
       "      <td>2.466536</td>\n",
       "      <td>...</td>\n",
       "      <td>1</td>\n",
       "      <td>1</td>\n",
       "      <td>10.02948</td>\n",
       "      <td>0.0</td>\n",
       "      <td>4.277749</td>\n",
       "      <td>0.000256</td>\n",
       "      <td>1</td>\n",
       "      <td>1</td>\n",
       "      <td>1</td>\n",
       "      <td>Normal</td>\n",
       "    </tr>\n",
       "  </tbody>\n",
       "</table>\n",
       "<p>5 rows × 53 columns</p>\n",
       "</div>"
      ],
      "text/plain": [
       "                Timestamp    FIT101    LIT101  MV101  P101  P102    AIT201  \\\n",
       "0   22/12/2015 4:00:00 PM  2.470294  261.5804      2     2     1  244.3284   \n",
       "1   22/12/2015 4:00:01 PM  2.457163  261.1879      2     2     1  244.3284   \n",
       "2   22/12/2015 4:00:02 PM  2.439548  260.9131      2     2     1  244.3284   \n",
       "3   22/12/2015 4:00:03 PM  2.428338  260.2850      2     2     1  244.3284   \n",
       "4   22/12/2015 4:00:04 PM  2.424815  259.8925      2     2     1  244.4245   \n",
       "\n",
       "    AIT202   AIT203    FIT201  ...  P501  P502    PIT501  PIT502    PIT503  \\\n",
       "0  8.19008  306.101  2.471278  ...     1     1  10.02948     0.0  4.277749   \n",
       "1  8.19008  306.101  2.468587  ...     1     1  10.02948     0.0  4.277749   \n",
       "2  8.19008  306.101  2.467305  ...     1     1  10.02948     0.0  4.277749   \n",
       "3  8.19008  306.101  2.466536  ...     1     1  10.02948     0.0  4.277749   \n",
       "4  8.19008  306.101  2.466536  ...     1     1  10.02948     0.0  4.277749   \n",
       "\n",
       "     FIT601  P601  P602  P603  Normal/Attack  \n",
       "0  0.000256     1     1     1         Normal  \n",
       "1  0.000256     1     1     1         Normal  \n",
       "2  0.000256     1     1     1         Normal  \n",
       "3  0.000256     1     1     1         Normal  \n",
       "4  0.000256     1     1     1         Normal  \n",
       "\n",
       "[5 rows x 53 columns]"
      ]
     },
     "execution_count": 3,
     "metadata": {},
     "output_type": "execute_result"
    }
   ],
   "source": [
    "df.head(5)"
   ]
  },
  {
   "cell_type": "code",
   "execution_count": 4,
   "metadata": {
    "id": "npWtZAD5X-Hi"
   },
   "outputs": [],
   "source": [
    "def time_segments_aggregate(X, interval, time_column, method=['mean']):\n",
    "    \"\"\"Aggregate values over given time span.\n",
    "    Args:\n",
    "        X (ndarray or pandas.DataFrame):\n",
    "            N-dimensional sequence of values.\n",
    "        interval (int):\n",
    "            Integer denoting time span to compute aggregation of.\n",
    "        time_column (int):\n",
    "            Column of X that contains time values.\n",
    "        method (str or list):\n",
    "            Optional. String describing aggregation method or list of strings describing multiple\n",
    "            aggregation methods. If not given, `mean` is used.\n",
    "    Returns:\n",
    "        ndarray, ndarray:\n",
    "            * Sequence of aggregated values, one column for each aggregation method.\n",
    "            * Sequence of index values (first index of each aggregated segment).\n",
    "    \"\"\"\n",
    "    if isinstance(X, np.ndarray):\n",
    "        X = pd.DataFrame(X)\n",
    "        \n",
    "    X = X\n",
    "    X = X.sort_values(time_column).set_index(time_column)\n",
    "\n",
    "    if isinstance(method, str):\n",
    "        method = [method]\n",
    "\n",
    "    start_ts = X.index.values[0]\n",
    "    max_ts = X.index.values[-1]\n",
    "\n",
    "    values = list()\n",
    "    index = list()\n",
    "    while start_ts <= max_ts:\n",
    "\n",
    "        end_ts = start_ts + interval\n",
    "        subset = X.loc[start_ts:end_ts - 1]\n",
    "        aggregated = [\n",
    "            getattr(subset, agg)(skipna=True).values\n",
    "            for agg in method\n",
    "        ]\n",
    "        values.append(np.concatenate(aggregated))\n",
    "        index.append(start_ts)\n",
    "        start_ts = end_ts\n",
    "\n",
    "    return np.asarray(values), np.asarray(index)"
   ]
  },
  {
   "cell_type": "code",
   "execution_count": 5,
   "metadata": {
    "id": "bfQE_IlmZv4P",
    "scrolled": false
   },
   "outputs": [
    {
     "name": "stdout",
     "output_type": "stream",
     "text": [
      "Index(['Timestamp', 'FIT101', 'LIT101', 'MV101', 'P101', 'P102', 'AIT201',\n",
      "       'AIT202', 'AIT203', 'FIT201', 'MV201', 'P201', 'P202', 'P203', 'P204',\n",
      "       'P205', 'P206', 'DPIT301', 'FIT301', 'LIT301', 'MV301', 'MV302',\n",
      "       'MV303', 'MV304', 'P301', 'P302', 'AIT401', 'AIT402', 'FIT401',\n",
      "       'LIT401', 'P401', 'P402', 'P403', 'P404', 'UV401', 'AIT501', 'AIT502',\n",
      "       'AIT503', 'AIT504', 'FIT501', 'FIT502', 'FIT503', 'FIT504', 'P501',\n",
      "       'P502', 'PIT501', 'PIT502', 'PIT503', 'FIT601', 'P601', 'P602', 'P603',\n",
      "       'Normal/Attack'],\n",
      "      dtype='object')\n"
     ]
    }
   ],
   "source": [
    "# TimeSegments\n",
    "#print(pd.to_datetime('1970-01-02').value)\n",
    "df[\"Timestamp\"] = df[\"Timestamp\"].apply(lambda x: pd.to_datetime(x).value)\n",
    "print(df.keys())"
   ]
  },
  {
   "cell_type": "code",
   "execution_count": null,
   "metadata": {},
   "outputs": [],
   "source": [
    "X, index = time_segments_aggregate(df, interval=1800, time_column='Timestamp')"
   ]
  },
  {
   "cell_type": "code",
   "execution_count": null,
   "metadata": {
    "id": "49rVid5gYqAI"
   },
   "outputs": [],
   "source": [
    "imp = SimpleImputer()\n",
    "X = imp.fit_transform(X)"
   ]
  },
  {
   "cell_type": "code",
   "execution_count": null,
   "metadata": {
    "id": "q15IDpMUYyel"
   },
   "outputs": [],
   "source": [
    "scaler = MinMaxScaler(feature_range=(-1, 1))\n",
    "X = scaler.fit_transform(X)"
   ]
  },
  {
   "cell_type": "code",
   "execution_count": null,
   "metadata": {
    "id": "YuN0SmzCZ4gx"
   },
   "outputs": [],
   "source": [
    "def rolling_window_sequences(X, index, window_size, target_size, step_size, target_column,\n",
    "                             drop=None, drop_windows=False):\n",
    "    \"\"\"Create rolling window sequences out of time series data.\n",
    "    The function creates an array of input sequences and an array of target sequences by rolling\n",
    "    over the input sequence with a specified window.\n",
    "    Optionally, certain values can be dropped from the sequences.\n",
    "    Args:\n",
    "        X (ndarray):\n",
    "            N-dimensional sequence to iterate over.\n",
    "        index (ndarray):\n",
    "            Array containing the index values of X.\n",
    "        window_size (int):\n",
    "            Length of the input sequences.\n",
    "        target_size (int):\n",
    "            Length of the target sequences.\n",
    "        step_size (int):\n",
    "            Indicating the number of steps to move the window forward each round.\n",
    "        target_column (int):\n",
    "            Indicating which column of X is the target.\n",
    "        drop (ndarray or None or str or float or bool):\n",
    "            Optional. Array of boolean values indicating which values of X are invalid, or value\n",
    "            indicating which value should be dropped. If not given, `None` is used.\n",
    "        drop_windows (bool):\n",
    "            Optional. Indicates whether the dropping functionality should be enabled. If not\n",
    "            given, `False` is used.\n",
    "    Returns:\n",
    "        ndarray, ndarray, ndarray, ndarray:\n",
    "            * input sequences.\n",
    "            * target sequences.\n",
    "            * first index value of each input sequence.\n",
    "            * first index value of each target sequence.\n",
    "    \"\"\"\n",
    "    out_X = list()\n",
    "    out_y = list()\n",
    "    X_index = list()\n",
    "    y_index = list()\n",
    "    target = X[:, target_column]\n",
    "\n",
    "    if drop_windows:\n",
    "        if hasattr(drop, '__len__') and (not isinstance(drop, str)):\n",
    "            if len(drop) != len(X):\n",
    "                raise Exception('Arrays `drop` and `X` must be of the same length.')\n",
    "        else:\n",
    "            if isinstance(drop, float) and np.isnan(drop):\n",
    "                drop = np.isnan(X)\n",
    "            else:\n",
    "                drop = X == drop\n",
    "\n",
    "    start = 0\n",
    "    max_start = len(X) - window_size - target_size + 1\n",
    "    while start < max_start:\n",
    "        end = start + window_size\n",
    "\n",
    "        if drop_windows:\n",
    "            drop_window = drop[start:end + target_size]\n",
    "            to_drop = np.where(drop_window)[0]\n",
    "            if to_drop.size:\n",
    "                start += to_drop[-1] + 1\n",
    "                continue\n",
    "\n",
    "        out_X.append(X[start:end])\n",
    "        out_y.append(target[end:end + target_size])\n",
    "        X_index.append(index[start])\n",
    "        y_index.append(index[end])\n",
    "        start = start + step_size\n",
    "\n",
    "    return np.asarray(out_X), np.asarray(out_y), np.asarray(X_index), np.asarray(y_index)"
   ]
  },
  {
   "cell_type": "code",
   "execution_count": null,
   "metadata": {
    "id": "V3oekRlSZ6Wn"
   },
   "outputs": [],
   "source": [
    "X, y, X_index, y_index = rolling_window_sequences(X, index, \n",
    "                                                  window_size=100, \n",
    "                                                  target_size=1, \n",
    "                                                  step_size=1,\n",
    "                                                  target_column=0)"
   ]
  },
  {
   "cell_type": "code",
   "execution_count": null,
   "metadata": {
    "id": "PhYaWBwpZ-Az"
   },
   "outputs": [],
   "source": [
    "print(\"Training data input shape: {}\".format(X.shape))\n",
    "print(\"Training data index shape: {}\".format(X_index.shape))\n",
    "print(\"Training y shape: {}\".format(y.shape))\n",
    "print(\"Training y index shape: {}\".format(y_index.shape))\n"
   ]
  },
  {
   "cell_type": "markdown",
   "metadata": {
    "id": "EjqfKEg9aApL"
   },
   "source": [
    "#### Part 2 \n",
    "\n",
    "- GPU check for TadGAN \n",
    "- Load Tensorflow, Keras, Layers .."
   ]
  },
  {
   "cell_type": "code",
   "execution_count": null,
   "metadata": {
    "id": "sTYvrfHTRUbf"
   },
   "outputs": [],
   "source": [
    "# Check gpu envrionmental \n",
    "import tensorflow as tf\n",
    "import logging\n",
    "import math\n",
    "\n",
    "gpus = tf.config.experimental.list_physical_devices('GPU') \n",
    "if gpus: \n",
    "    try: \n",
    "        for gpu in gpus: \n",
    "            tf.config.experimental.set_memory_growth(gpu, True) \n",
    "    except RuntimeError as e: \n",
    "        print(e)\n",
    "print (gpus)"
   ]
  },
  {
   "cell_type": "code",
   "execution_count": null,
   "metadata": {
    "id": "o8ALUCPXEtM-"
   },
   "outputs": [],
   "source": [
    "LOGGER = logging.getLogger(__name__)"
   ]
  },
  {
   "cell_type": "code",
   "execution_count": null,
   "metadata": {
    "id": "7ys30Y68EtM8"
   },
   "outputs": [],
   "source": [
    "#import tensorflow as tf\n",
    "import keras\n",
    "#import similaritymeasures as sm\n",
    "from tensorflow.keras import backend as K\n",
    "from tensorflow.keras.layers import Input\n",
    "from tensorflow.keras.models import Model\n",
    "\n",
    "from tensorflow.keras.layers import Bidirectional, LSTM, Flatten, Dense, Reshape, UpSampling1D, TimeDistributed\n",
    "from tensorflow.keras.layers import Activation, Conv1D, LeakyReLU, Dropout, Add, Layer\n",
    "from tensorflow.compat.v1.keras.layers import CuDNNLSTM\n",
    "from tensorflow.keras.optimizers import Adam\n",
    "\n",
    "from functools import partial\n",
    "from scipy import integrate, stats"
   ]
  },
  {
   "cell_type": "code",
   "execution_count": null,
   "metadata": {
    "id": "sR5cPk6ERUbl"
   },
   "outputs": [],
   "source": []
  },
  {
   "cell_type": "code",
   "execution_count": null,
   "metadata": {
    "id": "fyew_Fb5cxid"
   },
   "outputs": [],
   "source": [
    "X.shape"
   ]
  },
  {
   "cell_type": "code",
   "execution_count": null,
   "metadata": {
    "id": "coQevcffOvWV"
   },
   "outputs": [],
   "source": [
    "# Model Building 개별 함수화"
   ]
  },
  {
   "cell_type": "code",
   "execution_count": null,
   "metadata": {
    "id": "uj_WD27AOvWV"
   },
   "outputs": [],
   "source": [
    "class RandomWeightedAverage(Layer):\n",
    "    def _merge_function(self, inputs):\n",
    "        alpha = K.random_uniform((64, 1, 1))\n",
    "        return (alpha * inputs[0]) + ((1 - alpha) * inputs[1])"
   ]
  },
  {
   "cell_type": "code",
   "execution_count": null,
   "metadata": {
    "id": "fDOTybi0OvWV"
   },
   "outputs": [],
   "source": [
    "def build_encoder_layer(input_shape, encoder_reshape_shape):\n",
    "    x = Input(shape=input_shape)\n",
    "    model = tf.keras.models.Sequential([\n",
    "        Bidirectional(LSTM(units=100, return_sequences=True)),\n",
    "        Flatten(),\n",
    "        Dense(20),\n",
    "        Reshape(target_shape=encoder_reshape_shape)])  # (20, 1)\n",
    "\n",
    "    return Model(x, model(x))\n",
    "\n",
    "\n",
    "def build_generator_layer(input_shape, generator_reshape_shape):\n",
    "    # input_shape = (20, 1) / generator_reshape_shape = (50, 1)\n",
    "    x = Input(shape=input_shape)\n",
    "    model = tf.keras.models.Sequential([\n",
    "        Flatten(),\n",
    "        Dense(50),\n",
    "        Reshape(target_shape=generator_reshape_shape),  # (50, 1)\n",
    "        Bidirectional(CuDNNLSTM(units=64, return_sequences=True), merge_mode='concat'),\n",
    "        Dropout(rate=0.2),\n",
    "        UpSampling1D(size=2),\n",
    "        Bidirectional(CuDNNLSTM(units=64, return_sequences=True), merge_mode='concat'),\n",
    "        Dropout(rate=0.2),\n",
    "        TimeDistributed(Dense(1)),\n",
    "        Activation(activation='tanh')])  # (None, 100, 1)\n",
    "\n",
    "    return Model(x, model(x))\n",
    "\n",
    "\n",
    "def build_critic_x_layer(input_shape):\n",
    "    x = Input(shape=input_shape)\n",
    "    model = tf.keras.models.Sequential([\n",
    "        Conv1D(filters=64, kernel_size=5),\n",
    "        LeakyReLU(alpha=0.2),\n",
    "        Dropout(rate=0.25),\n",
    "        Conv1D(filters=64, kernel_size=5),\n",
    "        LeakyReLU(alpha=0.2),\n",
    "        Dropout(rate=0.25),\n",
    "        Conv1D(filters=64, kernel_size=5),\n",
    "        LeakyReLU(alpha=0.2),\n",
    "        Dropout(rate=0.25),\n",
    "        Conv1D(filters=64, kernel_size=5),\n",
    "        LeakyReLU(alpha=0.2),\n",
    "        Dropout(rate=0.25),\n",
    "        Flatten(),\n",
    "        Dense(units=1)])\n",
    "\n",
    "    return Model(x, model(x))\n",
    "\n",
    "\n",
    "def build_critic_z_layer(input_shape):\n",
    "    x = Input(shape=input_shape)\n",
    "    model = tf.keras.models.Sequential([\n",
    "        Flatten(),\n",
    "        Dense(units=100),\n",
    "        LeakyReLU(alpha=0.2),\n",
    "        Dropout(rate=0.2),\n",
    "        Dense(units=100),\n",
    "        LeakyReLU(alpha=0.2),\n",
    "        Dropout(rate=0.2),\n",
    "        Dense(units=1)])\n",
    "\n",
    "    return Model(x, model(x))\n"
   ]
  },
  {
   "cell_type": "code",
   "execution_count": null,
   "metadata": {
    "id": "OCdHMC3BOvWW"
   },
   "outputs": [],
   "source": [
    "def wasserstein_loss(y_true, y_pred):\n",
    "    return K.mean(y_true * y_pred)"
   ]
  },
  {
   "cell_type": "code",
   "execution_count": null,
   "metadata": {
    "id": "z8ZcWpI7OvWW"
   },
   "outputs": [],
   "source": [
    "# Layer Parameters\n",
    "latent_dim = 20\n",
    "shape = (100, 1)\n",
    "\n",
    "encoder_input_shape = (100,1)\n",
    "generator_input_shape = (20, 1)\n",
    "critic_x_input_shape = (100,1)\n",
    "critic_z_input_shape = (20,1)\n",
    "encoder_reshape_shape = (20, 1)\n",
    "generator_reshape_shape = (50, 1)\n",
    "learning_rate = 0.0005\n",
    "\n",
    "encoder = build_encoder_layer(input_shape=encoder_input_shape,\n",
    "                              encoder_reshape_shape=encoder_reshape_shape)\n",
    "generator = build_generator_layer(input_shape=generator_input_shape,\n",
    "                                  generator_reshape_shape=generator_reshape_shape)\n",
    "critic_x = build_critic_x_layer(input_shape=critic_x_input_shape)\n",
    "critic_z = build_critic_z_layer(input_shape=critic_z_input_shape)\n",
    "\n",
    "optimizer = tf.keras.optimizers.Adam(learning_rate)"
   ]
  },
  {
   "cell_type": "code",
   "execution_count": null,
   "metadata": {
    "id": "2EPMhkZLOvWW"
   },
   "outputs": [],
   "source": [
    "z = Input(shape=(latent_dim, 1))\n",
    "x = Input(shape=shape)\n",
    "x_ = generator(z)\n",
    "z_ = encoder(x)\n",
    "fake_x = critic_x(x_)\n",
    "valid_x = critic_x(x)\n",
    "interpolated_x = RandomWeightedAverage()([x, x_])\n",
    "#validity_interpolated_x = critic_x(interpolated_x)\n",
    "#partial_gp_loss_x = partial(gradient_penalty_loss, averaged_samples=interpolated_x)\n",
    "#partial_gp_loss_x.__name__ = 'gradient_penalty'\n",
    "\n",
    "critic_x_model = Model(inputs=[x, z], outputs=[valid_x, fake_x, interpolated_x])"
   ]
  },
  {
   "cell_type": "code",
   "execution_count": null,
   "metadata": {
    "id": "Fd-KP-prOvWX"
   },
   "outputs": [],
   "source": [
    "fake_z = critic_z(z_)\n",
    "valid_z = critic_z(z)\n",
    "interpolated_z = RandomWeightedAverage()([z, z_])\n",
    "#validity_interpolated_z = critic_z(interpolated_z)\n",
    "#partial_gp_loss_z = partial(gradient_penalty_loss, averaged_samples=interpolated_z)\n",
    "#partial_gp_loss_z.__name__ = 'gradient_penalty'\n",
    "\n",
    "critic_z_model = Model(inputs=[x, z], outputs=[valid_z, fake_z, interpolated_z])"
   ]
  },
  {
   "cell_type": "code",
   "execution_count": null,
   "metadata": {
    "id": "43QYfgRCOvWX"
   },
   "outputs": [],
   "source": [
    "z_gen = Input(shape=(latent_dim, 1))\n",
    "x_gen_ = generator(z_gen)\n",
    "x_gen = Input(shape=shape)\n",
    "z_gen_ = encoder(x_gen)\n",
    "x_gen_rec = generator(z_gen_)\n",
    "fake_gen_x = critic_x(x_gen_)\n",
    "fake_gen_z = critic_z(z_gen_)\n",
    "\n",
    "encoder_generator_model = Model([x_gen, z_gen], [fake_gen_x, fake_gen_z, x_gen_rec])"
   ]
  },
  {
   "cell_type": "code",
   "execution_count": null,
   "metadata": {
    "id": "Pp7JdciKOvWX"
   },
   "outputs": [],
   "source": [
    "@tf.function\n",
    "def critic_x_train_on_batch(x, z, valid, fake, delta):\n",
    "    with tf.GradientTape() as tape:\n",
    "        \n",
    "        (valid_x, fake_x, interpolated) = critic_x_model(inputs=[x, z], training=True) \n",
    "        \n",
    "        with tf.GradientTape() as gp_tape:\n",
    "            gp_tape.watch(interpolated)\n",
    "            pred = critic_x(interpolated, training=True)\n",
    "            \n",
    "        grads = gp_tape.gradient(pred, interpolated)[0]\n",
    "        grads = tf.square(grads)\n",
    "        ddx = tf.sqrt(1e-8 + tf.reduce_sum(grads, axis=np.arange(1, len(grads.shape))))\n",
    "        gp_loss = tf.reduce_mean((ddx - 1.0) ** 2)\n",
    "\n",
    "        loss = tf.reduce_mean(wasserstein_loss(valid, valid_x))\n",
    "        loss += tf.reduce_mean(wasserstein_loss(fake, fake_x))\n",
    "        loss += gp_loss*10.0\n",
    "        \n",
    "    gradients = tape.gradient(loss, critic_x_model.trainable_weights)\n",
    "    optimizer.apply_gradients(zip(gradients, critic_x_model.trainable_weights))\n",
    "    return loss"
   ]
  },
  {
   "cell_type": "code",
   "execution_count": null,
   "metadata": {
    "id": "Yh4QxgIvOvWX"
   },
   "outputs": [],
   "source": [
    "@tf.function\n",
    "def critic_z_train_on_batch(x, z, valid, fake, delta):\n",
    "    with tf.GradientTape() as tape:\n",
    "        \n",
    "        (valid_z, fake_z, interpolated) = critic_z_model(inputs=[x, z], training=True)\n",
    "\n",
    "        with tf.GradientTape() as gp_tape:\n",
    "            gp_tape.watch(interpolated)\n",
    "            pred = critic_z(interpolated, training=True)\n",
    "            \n",
    "        grads = gp_tape.gradient(pred, interpolated)[0]\n",
    "        grads = tf.square(grads)\n",
    "        ddx = tf.sqrt(1e-8 + tf.reduce_sum(grads, axis=np.arange(1, len(grads.shape))))\n",
    "        gp_loss = tf.reduce_mean((ddx - 1.0) ** 2)\n",
    "\n",
    "        loss = tf.reduce_mean(wasserstein_loss(valid, valid_z))\n",
    "        loss += tf.reduce_mean(wasserstein_loss(fake, fake_z))\n",
    "        loss += gp_loss*10.0        \n",
    "        \n",
    "    gradients = tape.gradient(loss, critic_z_model.trainable_weights)\n",
    "    optimizer.apply_gradients(zip(gradients, critic_z_model.trainable_weights))\n",
    "    return loss"
   ]
  },
  {
   "cell_type": "code",
   "execution_count": null,
   "metadata": {
    "id": "-Rkpv6veOvWY"
   },
   "outputs": [],
   "source": [
    "@tf.function\n",
    "def enc_gen_train_on_batch(x, z, valid):\n",
    "    with tf.GradientTape() as tape:\n",
    "        \n",
    "        (fake_gen_x, fake_gen_z, x_gen_rec) = encoder_generator_model(inputs=[x, z], training=True)\n",
    "        \n",
    "        x = tf.squeeze(x)\n",
    "        x_gen_rec = tf.squeeze(x_gen_rec)\n",
    "        \n",
    "        loss = tf.reduce_mean(wasserstein_loss(valid, fake_gen_x))\n",
    "        loss += tf.reduce_mean(wasserstein_loss(valid, fake_gen_z))\n",
    "        loss += tf.keras.losses.MSE(x, x_gen_rec)*10\n",
    "        loss = tf.reduce_mean(loss)\n",
    "        \n",
    "    gradients = tape.gradient(loss, encoder_generator_model.trainable_weights)\n",
    "    optimizer.apply_gradients(zip(gradients, encoder_generator_model.trainable_weights))\n",
    "    \n",
    "    return loss"
   ]
  },
  {
   "cell_type": "code",
   "execution_count": null,
   "metadata": {
    "id": "ucvXt9XuOvWZ"
   },
   "outputs": [],
   "source": [
    "# Train parameters\n",
    "batch_size = 64\n",
    "n_critics = 5\n",
    "epochs = 50"
   ]
  },
  {
   "cell_type": "code",
   "execution_count": null,
   "metadata": {
    "id": "rQ7EjnR4OvWZ"
   },
   "outputs": [],
   "source": [
    "# Train \n",
    "X = X.reshape((-1, shape[0], 1))\n",
    "X_ = np.copy(X)\n",
    "\n",
    "fake = np.ones((batch_size, 1), dtype=np.float32)\n",
    "valid = -np.ones((batch_size, 1), dtype=np.float32)\n",
    "delta = np.ones((batch_size, 1), dtype=np.float32)\n",
    "\n",
    "for epoch in range(1, epochs+1):\n",
    "    \n",
    "    np.random.shuffle(X_)\n",
    "    \n",
    "    epoch_g_loss = []\n",
    "    epoch_cx_loss = []\n",
    "    epoch_cz_loss = []\n",
    "    \n",
    "    minibatches_size = batch_size * n_critics\n",
    "    num_minibatches = int(X_.shape[0] // minibatches_size)\n",
    "    \n",
    "    for i in range(num_minibatches):\n",
    "        minibatch = X_[i * minibatches_size: (i + 1) * minibatches_size]\n",
    "        \n",
    "        generator.trainable = False\n",
    "        encoder.trainable = False\n",
    "        # train critics \n",
    "        \n",
    "        for j in range(n_critics):\n",
    "            x = minibatch[j * batch_size: (j + 1) * batch_size]\n",
    "            z = np.random.normal(size=(batch_size, latent_dim, 1))\n",
    "            epoch_cx_loss.append(critic_x_train_on_batch(x, z, valid, fake, delta))\n",
    "            epoch_cz_loss.append(critic_z_train_on_batch(x, z, valid, fake, delta))\n",
    "            \n",
    "        critic_x.trainable = False\n",
    "        critic_z.trainable = False        \n",
    "        generator.trainable = True\n",
    "        encoder.trainable = True        \n",
    "        # train encoder, generator   \n",
    "        \n",
    "        epoch_g_loss.append(enc_gen_train_on_batch(x, z, valid))\n",
    "    \n",
    "    cx_loss = np.mean(np.array(epoch_cx_loss), axis=0)\n",
    "    cz_loss = np.mean(np.array(epoch_cz_loss), axis=0)\n",
    "    g_loss = np.mean(np.array(epoch_g_loss), axis=0)\n",
    "    print('Epoch: {}/{}, [Dx loss: {}] [Dz loss: {}] [G loss: {}]'.format(epoch, epochs, cx_loss, cz_loss, g_loss))    "
   ]
  },
  {
   "cell_type": "code",
   "execution_count": null,
   "metadata": {
    "id": "F4LOxxEKOvWb"
   },
   "outputs": [],
   "source": []
  }
 ],
 "metadata": {
  "accelerator": "GPU",
  "colab": {
   "collapsed_sections": [],
   "name": "TadGAN.ipynb",
   "provenance": [],
   "toc_visible": true
  },
  "kernelspec": {
   "display_name": "Python 3",
   "language": "python",
   "name": "python3"
  },
  "language_info": {
   "codemirror_mode": {
    "name": "ipython",
    "version": 3
   },
   "file_extension": ".py",
   "mimetype": "text/x-python",
   "name": "python",
   "nbconvert_exporter": "python",
   "pygments_lexer": "ipython3",
   "version": "3.7.3"
  }
 },
 "nbformat": 4,
 "nbformat_minor": 1
}
