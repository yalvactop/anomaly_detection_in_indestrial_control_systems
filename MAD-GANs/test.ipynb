{
 "cells": [
  {
   "cell_type": "code",
   "execution_count": 1,
   "id": "b938ccb9",
   "metadata": {},
   "outputs": [],
   "source": [
    "import numpy as np"
   ]
  },
  {
   "cell_type": "code",
   "execution_count": 4,
   "id": "a7ef4cea",
   "metadata": {},
   "outputs": [],
   "source": [
    "kdd = np.load(\"data/kdd99_test.npy\")"
   ]
  },
  {
   "cell_type": "code",
   "execution_count": 5,
   "id": "0e0f54d6",
   "metadata": {},
   "outputs": [
    {
     "data": {
      "text/plain": [
       "(494021, 35)"
      ]
     },
     "execution_count": 5,
     "metadata": {},
     "output_type": "execute_result"
    }
   ],
   "source": [
    "kdd.shape"
   ]
  },
  {
   "cell_type": "code",
   "execution_count": 6,
   "id": "c8631904",
   "metadata": {},
   "outputs": [
    {
     "data": {
      "text/plain": [
       "array([[   0.,  181., 5450., ...,    0.,    0.,    0.],\n",
       "       [   0.,  239.,  486., ...,    0.,    0.,    0.],\n",
       "       [   0.,  235., 1337., ...,    0.,    0.,    0.],\n",
       "       ...,\n",
       "       [   0.,  203., 1200., ...,    0.,    0.,    0.],\n",
       "       [   0.,  291., 1200., ...,    0.,    0.,    0.],\n",
       "       [   0.,  219., 1234., ...,    0.,    0.,    0.]])"
      ]
     },
     "execution_count": 6,
     "metadata": {},
     "output_type": "execute_result"
    }
   ],
   "source": [
    "kdd"
   ]
  },
  {
   "cell_type": "code",
   "execution_count": 7,
   "id": "106a04df",
   "metadata": {},
   "outputs": [
    {
     "data": {
      "text/plain": [
       "array([0.00e+00, 1.81e+02, 5.45e+03, 0.00e+00, 0.00e+00, 0.00e+00,\n",
       "       0.00e+00, 0.00e+00, 0.00e+00, 0.00e+00, 0.00e+00, 0.00e+00,\n",
       "       0.00e+00, 0.00e+00, 0.00e+00, 8.00e+00, 8.00e+00, 0.00e+00,\n",
       "       0.00e+00, 0.00e+00, 0.00e+00, 1.00e+00, 0.00e+00, 0.00e+00,\n",
       "       9.00e+00, 9.00e+00, 1.00e+00, 0.00e+00, 1.10e-01, 0.00e+00,\n",
       "       0.00e+00, 0.00e+00, 0.00e+00, 0.00e+00, 0.00e+00])"
      ]
     },
     "execution_count": 7,
     "metadata": {},
     "output_type": "execute_result"
    }
   ],
   "source": [
    "kdd[0]"
   ]
  },
  {
   "cell_type": "code",
   "execution_count": null,
   "id": "a2ca79f5",
   "metadata": {},
   "outputs": [],
   "source": []
  }
 ],
 "metadata": {
  "kernelspec": {
   "display_name": "Python 3",
   "language": "python",
   "name": "python3"
  },
  "language_info": {
   "codemirror_mode": {
    "name": "ipython",
    "version": 3
   },
   "file_extension": ".py",
   "mimetype": "text/x-python",
   "name": "python",
   "nbconvert_exporter": "python",
   "pygments_lexer": "ipython3",
   "version": "3.7.12"
  }
 },
 "nbformat": 4,
 "nbformat_minor": 5
}
