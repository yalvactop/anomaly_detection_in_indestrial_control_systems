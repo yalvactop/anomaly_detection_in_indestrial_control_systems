{
 "cells": [
  {
   "cell_type": "code",
   "execution_count": 1,
   "id": "c279b15d",
   "metadata": {},
   "outputs": [],
   "source": [
    "import pandas as pd\n",
    "import numpy as np"
   ]
  },
  {
   "cell_type": "code",
   "execution_count": 2,
   "id": "79c64478",
   "metadata": {},
   "outputs": [],
   "source": [
    "data = pd.read_csv(\"data/swat.csv\")"
   ]
  },
  {
   "cell_type": "code",
   "execution_count": 4,
   "id": "3916b48a",
   "metadata": {},
   "outputs": [
    {
     "data": {
      "text/plain": [
       "array([[1451296800000000000, 2.427057, 522.8467, ..., 1, 1, 'Normal'],\n",
       "       [1451296801000000000, 2.4462740000000003, 522.886, ..., 1, 1,\n",
       "        'Normal'],\n",
       "       [1451296802000000000, 2.489191, 522.8467, ..., 1, 1, 'Normal'],\n",
       "       ...,\n",
       "       [1454338797000000000, 2.5314669999999997, 520.6878, ..., 1, 1,\n",
       "        'Normal'],\n",
       "       [1454338798000000000, 2.521218, 520.7271, ..., 1, 1, 'Normal'],\n",
       "       [1454338799000000000, 2.501681, 521.1196, ..., 1, 1, 'Normal']],\n",
       "      dtype=object)"
      ]
     },
     "execution_count": 4,
     "metadata": {},
     "output_type": "execute_result"
    }
   ],
   "source": [
    "data = np.array(data)\n",
    "data"
   ]
  },
  {
   "cell_type": "code",
   "execution_count": 5,
   "id": "d478fd24",
   "metadata": {},
   "outputs": [],
   "source": [
    "np.save('./data/swat.npy', data)"
   ]
  },
  {
   "cell_type": "code",
   "execution_count": null,
   "id": "f11d186c",
   "metadata": {},
   "outputs": [],
   "source": []
  }
 ],
 "metadata": {
  "kernelspec": {
   "display_name": "Python 3",
   "language": "python",
   "name": "python3"
  },
  "language_info": {
   "codemirror_mode": {
    "name": "ipython",
    "version": 3
   },
   "file_extension": ".py",
   "mimetype": "text/x-python",
   "name": "python",
   "nbconvert_exporter": "python",
   "pygments_lexer": "ipython3",
   "version": "3.7.12"
  }
 },
 "nbformat": 4,
 "nbformat_minor": 5
}
